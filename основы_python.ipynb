{
 "cells": [
  {
   "cell_type": "code",
   "execution_count": null,
   "metadata": {},
   "outputs": [],
   "source": [
    "Задача 1\n",
    "Написать функцию на вход которой подается строка, состоящая из латинских букв. Функция должна вернуть количество гласных букв (a, e, i, o, u) в этой строке. Написать тесты для кода"
   ]
  },
  {
   "cell_type": "code",
   "execution_count": 21,
   "metadata": {
    "id": "XvX8X_JJ6PCb"
   },
   "outputs": [
    {
     "name": "stdout",
     "output_type": "stream",
     "text": [
      "Тест 1: 0\n",
      "Тест 2: 2\n",
      "Тест 3: 1\n",
      "Тест 4: 4\n"
     ]
    }
   ],
   "source": [
    "def count_vowels(s):\n",
    "    s = s.lower() #чтоб все буквы были строчными\n",
    "    count = 0\n",
    "    vowels = set('aeiou')\n",
    "    \n",
    "    for char in s:\n",
    "        if char in vowels:\n",
    "            count += 1\n",
    "            \n",
    "    return count\n",
    "\n",
    "def test():\n",
    "    print(\"Тест 1:\", count_vowels(\"448\"))  \n",
    "    print(\"Тест 2:\", count_vowels(\"nesti\")) \n",
    "    print(\"Тест 3:\", count_vowels(\"charm\"))\n",
    "    print(\"Тест 4:\", count_vowels(\"aieot\"))\n",
    "test()"
   ]
  },
  {
   "cell_type": "markdown",
   "metadata": {
    "id": "t2ClV_Y0bbr6"
   },
   "source": [
    "# Задача 2\n",
    "Написать функцию на вход, которой подается строка. Функция должна вернуть true, если\n",
    "каждый символ в строке встречается только 1 раз, иначе должна вернуть false. Написать тесты для кода"
   ]
  },
  {
   "cell_type": "code",
   "execution_count": 14,
   "metadata": {
    "id": "FppbECao6VIz"
   },
   "outputs": [
    {
     "name": "stdout",
     "output_type": "stream",
     "text": [
      "Тест 1: True\n",
      "Тест 2: True\n",
      "Тест 3: True\n",
      "Тест 4: True\n"
     ]
    }
   ],
   "source": [
    "def unique(str):\n",
    "  for char in str:\n",
    "    if str.lower().count(char) > 1:\n",
    "      return False\n",
    "    return True\n",
    "\n",
    "def test(): \n",
    "    print(\"Тест 1:\", unique(\"448\") == False)  \n",
    "    print(\"Тест 2:\", unique(\"nesti\") == True)\n",
    "    print(\"Тест 3:\", unique(\"charm\") == True)  \n",
    "    print(\"Тест 4:\", unique(\"uurst\") == False)\n",
    "test()"
   ]
  },
  {
   "cell_type": "markdown",
   "metadata": {
    "id": "udRiIK1cdt6E"
   },
   "source": [
    "# Задача 3\n",
    "Написать функцию, которая принимает положительное число и возвращает количество\n",
    "бит равных 1 в этом числе. Написать тесты для кода"
   ]
  },
  {
   "cell_type": "code",
   "execution_count": 13,
   "metadata": {
    "id": "6tkfDJRz6dp_"
   },
   "outputs": [
    {
     "name": "stdout",
     "output_type": "stream",
     "text": [
      "Тест 1: 1\n",
      "Тест 2: 2\n",
      "Тест 3: 7\n"
     ]
    }
   ],
   "source": [
    "def count_bit(number):\n",
    "    return bin(number).count('1')  # Преобразуем число в двоичную строку и считаем количество единиц в двоичной строке\n",
    "\n",
    "def test():\n",
    "    print(\"Тест 1:\", count_bit(2))\n",
    "    print(\"Тест 2:\", count_bit(5))\n",
    "    print(\"Тест 3:\", count_bit(2024))\n",
    "test()"
   ]
  },
  {
   "cell_type": "markdown",
   "metadata": {
    "id": "26dDUz-Ae17N"
   },
   "source": [
    "# Задача 4\n",
    "Написать функцию, которая принимает положительное число. Функция должна вернуть то,\n",
    "сколько раз необходимо перемножать цифры числа или результат перемножения, чтобы\n",
    "получилось число состоящее из одной цифры.\n",
    "Например, для входного числа:\n",
    "· 39 функция должна вернуть 3, так как 3*9=27 => 2*7=14 => 1*4=4\n",
    "· 4 функция должна вернуть 0, так как число уже состоит из одной цифры\n",
    "· 999 функция должна вернуть 4, так как 9*9*9=729 => 7*2*9=126 => 1*2*6=12 =>\n",
    "1*2=2. Написать тесты для кода"
   ]
  },
  {
   "cell_type": "code",
   "execution_count": 15,
   "metadata": {
    "id": "BH1A_Mgi6i4G"
   },
   "outputs": [
    {
     "name": "stdout",
     "output_type": "stream",
     "text": [
      "Тест 1: 4\n",
      "Тест 2: 3\n",
      "Тест 3: 0\n"
     ]
    }
   ],
   "source": [
    "def magic(num):\n",
    "    count = 0\n",
    "    while num >= 10:\n",
    "        res = 1\n",
    "        for digit in str(num): # проходим по каждой цифре числа, представленному в виде строки\n",
    "            res *= int(digit) # умножаем на цифру, преобразованную в целое число\n",
    "        num = res\n",
    "        count += 1\n",
    "    return count\n",
    "\n",
    "def test():\n",
    "    print(\"Тест 1:\", magic(999))\n",
    "    print(\"Тест 2:\", magic(39))\n",
    "    print(\"Тест 3:\", magic(4))\n",
    "test()"
   ]
  },
  {
   "cell_type": "markdown",
   "metadata": {
    "id": "0nS-kIa8g8vd"
   },
   "source": [
    "# Задача 5\n",
    "Написать функцию, которая принимает два целочисленных вектора одинаковой длины и\n",
    "возвращает среднеквадратическое отклонение двух векторов. Написать тесты для кода"
   ]
  },
  {
   "cell_type": "code",
   "execution_count": 16,
   "metadata": {
    "id": "8iphx4LM6xbx"
   },
   "outputs": [
    {
     "name": "stdout",
     "output_type": "stream",
     "text": [
      "Тест 1: 0.0\n",
      "Тест 2: 3.0\n",
      "Тест 3: 0.816496580927726\n"
     ]
    }
   ],
   "source": [
    "import math\n",
    "\n",
    "def mse(v1, v2):\n",
    "    if len(v1) != len(v2):\n",
    "        raise ValueError(\"\")\n",
    "        \n",
    "    sum_difference = 0\n",
    "    for i in range(len(v1)):\n",
    "        difference = v1[i] - v2[i]\n",
    "        sum_difference += difference ** 2  # используем квадрат разности\n",
    "    \n",
    "    mse = sum_difference / len(v1)  # находим среднее значение квадратов\n",
    "    return math.sqrt(mse)  # возвращаем корень из среднего значения квадратов\n",
    "\n",
    "def test():\n",
    "    print(\"Тест 1:\", mse([1, 2, 3], [1, 2, 3]))\n",
    "    print(\"Тест 2:\", mse([1, 2, 3], [4, 5, 6]))\n",
    "    print(\"Тест 3:\", mse([1, 2, 3], [2, 2, 2]))\n",
    "test()"
   ]
  },
  {
   "cell_type": "markdown",
   "metadata": {
    "id": "vpIPKL439zkw"
   },
   "source": [
    "# Задача 6\n",
    "Написать функцию, принимающая целое положительное число. Функция должна вернуть\n",
    "строку вида “(n1**p1)(n2**p2)…(nk**pk)” представляющая разложение числа на простые\n",
    "множители (если pi == 1, то выводить только ni).\n",
    "Например, для числа 86240 функция должна вернуть “(2**5)(5)(7**2)(11)”. Написать тесты для кода"
   ]
  },
  {
   "cell_type": "code",
   "execution_count": 18,
   "metadata": {
    "id": "pFebmcZk94Jw"
   },
   "outputs": [
    {
     "name": "stdout",
     "output_type": "stream",
     "text": [
      "Тест 1: (2**5)(5)(7**2)(11)\n",
      "Тест 2: (2**2)(5**2)\n",
      "Тест 3: (13)\n",
      "Тест 4: \n"
     ]
    }
   ],
   "source": [
    "def function(n):\n",
    "    if n <= 0:\n",
    "        raise ValueError(\"\")\n",
    "    \n",
    "    factors = []\n",
    "    \n",
    "    # делимость на 2\n",
    "    count = 0\n",
    "    while n % 2 == 0:\n",
    "        count += 1\n",
    "        n //= 2\n",
    "    if count > 0:\n",
    "        factors.append((2, count))\n",
    "    \n",
    "    # делимость на нечетные числа\n",
    "    for i in range(3, int(n**0.5) + 1, 2):\n",
    "        count = 0\n",
    "        while n % i == 0:\n",
    "            count += 1\n",
    "            n //= i\n",
    "        if count > 0:\n",
    "            factors.append((i, count))\n",
    "    \n",
    "    # если n остается больше 2, то оно простое\n",
    "    if n > 2:\n",
    "        factors.append((n, 1))\n",
    "    \n",
    "    res = ''.join(f\"({num}**{count})\" if count > 1 else f\"({num})\" for num, count in factors)\n",
    "    return res\n",
    "\n",
    "def test():\n",
    "    print(\"Тест 1:\", function(86240))\n",
    "    print(\"Тест 2:\", function(100))\n",
    "    print(\"Тест 3:\", function(13))\n",
    "    print(\"Тест 4:\", function(1))\n",
    "test()\n"
   ]
  },
  {
   "cell_type": "markdown",
   "metadata": {
    "id": "ps2s0BudX7A2"
   },
   "source": [
    "# Задача 7\n",
    "Написать функцию, принимающая целое число n, задающее количество кубиков. Функция\n",
    "должна определить, можно ли из данного кол-ва кубиков построить пирамиду, то есть\n",
    "можно ли представить число n как 1^2+2^2+3^2+…+k^2. Если можно, то функция должна\n",
    "вернуть k, иначе строку “It is impossible”. Написать тесты для кода"
   ]
  },
  {
   "cell_type": "code",
   "execution_count": 19,
   "metadata": {
    "id": "3YPjEXxhX_YT"
   },
   "outputs": [
    {
     "name": "stdout",
     "output_type": "stream",
     "text": [
      "Тест 1: 1\n",
      "Тест 2: 2\n",
      "Тест 3: It is impossible\n"
     ]
    }
   ],
   "source": [
    "def pyramid(number):\n",
    "    if number < 1:\n",
    "        return \"It is impossible\"\n",
    "    \n",
    "    k = 0\n",
    "    cubes = 0\n",
    "    \n",
    "    while cubes < number:\n",
    "        k += 1\n",
    "        cubes += k ** 2\n",
    "    \n",
    "    if cubes == number:\n",
    "        return k\n",
    "    else:\n",
    "        return \"It is impossible\"\n",
    "\n",
    "def test():\n",
    "    print(\"Тест 1:\", pyramid(1))\n",
    "    print(\"Тест 2:\", pyramid(5))\n",
    "    print(\"Тест 3:\", pyramid(448))\n",
    "test()"
   ]
  },
  {
   "cell_type": "markdown",
   "metadata": {
    "id": "KeKgmIdAQMEJ"
   },
   "source": [
    "# Задача 8\n",
    "Функция принимает на вход положительное число и определяет является ли оно сбалансированным, т.е. сумма цифр до средних равна сумме цифр после. Средними в случае нечетного числа цифр считать одну цифру, в случае четного - две средних. Написать тесты для кода"
   ]
  },
  {
   "cell_type": "code",
   "execution_count": 20,
   "metadata": {
    "id": "gMAAqtqlQrZt"
   },
   "outputs": [
    {
     "name": "stdout",
     "output_type": "stream",
     "text": [
      "Тест 1: False\n",
      "Тест 2: True\n",
      "Тест 3: False\n"
     ]
    }
   ],
   "source": [
    "def function(n):\n",
    "    #число в строку\n",
    "    s = str(n)\n",
    "    length = len(s)\n",
    "\n",
    "    left = 0\n",
    "    right = 0\n",
    "\n",
    "    #индексы средних цифр\n",
    "    if length % 2 == 0:  #четное количество цифр\n",
    "        mid1 = length // 2 - 1\n",
    "        mid2 = length // 2\n",
    "        \n",
    "        for i in range(mid1 + 1):\n",
    "            left += int(s[i])\n",
    "        \n",
    "        for i in range(mid2, length): \n",
    "            right += int(s[i])\n",
    "    else:  \n",
    "        mid = length // 2\n",
    "        \n",
    "        for i in range(mid):\n",
    "            left += int(s[i])\n",
    "      \n",
    "        for i in range(mid + 1, length):\n",
    "            right += int(s[i])\n",
    "\n",
    "    return left == right\n",
    "\n",
    "def test():\n",
    "    print(\"Тест 1:\", function(23))\n",
    "    print(\"Тест 2:\", function(48984))\n",
    "    print(\"Тест 3:\", function(44924))\n",
    "test()"
   ]
  },
  {
   "cell_type": "code",
   "execution_count": null,
   "metadata": {},
   "outputs": [],
   "source": []
  }
 ],
 "metadata": {
  "colab": {
   "provenance": []
  },
  "kernelspec": {
   "display_name": "Python 3 (ipykernel)",
   "language": "python",
   "name": "python3"
  },
  "language_info": {
   "codemirror_mode": {
    "name": "ipython",
    "version": 3
   },
   "file_extension": ".py",
   "mimetype": "text/x-python",
   "name": "python",
   "nbconvert_exporter": "python",
   "pygments_lexer": "ipython3",
   "version": "3.12.6"
  }
 },
 "nbformat": 4,
 "nbformat_minor": 4
}
