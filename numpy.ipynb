{
 "cells": [
  {
   "cell_type": "markdown",
   "metadata": {
    "id": "vC84e9kzyxPy"
   },
   "source": [
    "<h1>Импорт библиотек"
   ]
  },
  {
   "cell_type": "code",
   "execution_count": 3,
   "metadata": {
    "id": "cgKeNegmQG5S"
   },
   "outputs": [],
   "source": [
    "import numpy as np\n",
    "import matplotlib.pyplot as plt"
   ]
  },
  {
   "cell_type": "markdown",
   "metadata": {
    "id": "qFM9uVU2x4Ls"
   },
   "source": [
    "<h1>Задача 1. Дан набор из $p$ матриц размерностью $(n, n)$ и $p$ векторов размерностью $(n, 1)$, найти сумму произведений матриц на векторы. Написать тесты для кода"
   ]
  },
  {
   "cell_type": "code",
   "execution_count": null,
   "metadata": {
    "id": "IAbUvEiYyWFF"
   },
   "outputs": [],
   "source": [
    "def sum_prod(X, V):   \n",
    "    n = X[0].shape[0]  \n",
    "    res = np.zeros((n, 1)) \n",
    "    for matrix, vector in zip(X, V):\n",
    "        res += np.dot(matrix, vector)  \n",
    "    return res\n",
    "\n",
    "def test():\n",
    "    #test1\n",
    "    X1 = np.array([[1, 2], [3, 4]])\n",
    "    X2 = np.array([[2, 0], [1, 2]])\n",
    "    V1 = np.array([[1], [0]])\n",
    "    V2 = np.array([[0], [1]])\n",
    "    X = [X1, X2]\n",
    "    V = [V1, V2]\n",
    "    \n",
    "    res = np.dot(X1, V1) + np.dot(X2, V2)     \n",
    "    assert np.array_equal(sum_prod(X, V), res)\n",
    "\n",
    "    #test2\n",
    "    X1 = np.array([[1, 2, 3], [4, 5, 6], [7, 8, 9]])\n",
    "    X2 = np.array([[9, 8, 7], [6, 5, 4], [3, 2, 1]])\n",
    "    X3 = np.identity(3)\n",
    "    V1 = np.array([[1], [0], [1]])\n",
    "    V2 = np.array([[0], [1], [0]])\n",
    "    V3 = np.array([[1], [1], [1]])\n",
    "    X = [X1, X2, X3]\n",
    "    V = [V1, V2, V3]\n",
    "    \n",
    "    res = np.dot(X1, V1) + np.dot(X2, V2) + np.dot(X3, V3)\n",
    "    assert np.array_equal(sum_prod(X, V), res)\n",
    "\n",
    "    #test3\n",
    "    X1 = np.array([[2, -1, 0], [-1, 2, -1], [0, -1, 2]])\n",
    "    X2 = np.array([[1, 2, 1], [0, 1, 0], [1, 2, 1]])\n",
    "    V1 = np.array([[-1], [0], [1]])\n",
    "    V2 = np.array([[2], [-1], [2]])\n",
    "    X = [X1, X2]\n",
    "    V = [V1, V2]\n",
    "    \n",
    "    res = np.dot(X1, V1) + np.dot(X2, V2)\n",
    "    assert np.array_equal(sum_prod(X, V), res)\n",
    "test()"
   ]
  },
  {
   "cell_type": "markdown",
   "metadata": {
    "id": "TKwPG4fIy2w4"
   },
   "source": [
    "<h1>Задача 2. Дана матрица M, напишите функцию, которая бинаризует матрицу по некоторому threshold (то есть, все значения большие threshold становятся равными 1, иначе 0). Напишите тесты для кода"
   ]
  },
  {
   "cell_type": "code",
   "execution_count": null,
   "metadata": {
    "id": "KQDNMgsjRNH7"
   },
   "outputs": [],
   "source": [
    "import numpy as np\n",
    "\n",
    "def binarize(M, threshold=0.5):\n",
    "    return np.where(M > threshold, 1, 0)\n",
    "\n",
    "def test():\n",
    "    #test1\n",
    "    M1 = np.array([[0.2, 0.7], [0.5, 1.0]])\n",
    "    threshold1 = 0.5\n",
    "    expected_output1 = np.array([[0, 1], [0, 1]])\n",
    "    assert np.array_equal(binarize(M1, threshold1), expected_output1)\n",
    "\n",
    "    #test2\n",
    "    M2 = np.array([[-2.5, 0.4, 0.9], [-0.5, 1, -0.2]])\n",
    "    threshold2 = 0.5\n",
    "    expected_output2 = np.array([[0, 0, 1], [0, 1, 0]])\n",
    "    assert np.array_equal(binarize(M2, threshold2), expected_output2)\n",
    "\n",
    "    #test3\n",
    "    M3 = np.array([[2, 3], [4, 5]])\n",
    "    threshold3 = 3\n",
    "    expected_output3 = np.array([[0, 0], [1, 1]])\n",
    "    assert np.array_equal(binarize(M3, threshold3), expected_output3)\n",
    "test()"
   ]
  },
  {
   "cell_type": "markdown",
   "metadata": {
    "id": "IY5L-h-7zWhN"
   },
   "source": [
    "<h1>Задача 3. Напишите функцию, которая возвращает уникальные элементы из каждой строки матрицы. Напишите такую же функцию, но для столбцов. Напишите тесты для кода"
   ]
  },
  {
   "cell_type": "code",
   "execution_count": null,
   "metadata": {
    "id": "-8dEZhR0SBC-"
   },
   "outputs": [],
   "source": [
    "import numpy as np\n",
    "\n",
    "def unique_rows(mat):\n",
    "    \"возвращает список уникальных элементов для каждой строки матрицы\"\n",
    "    return [np.unique(row).tolist() for row in mat]\n",
    "\n",
    "def unique_columns(mat):\n",
    "    \"для каждого столбца матрицы\"\n",
    "    return [np.unique(mat[:, col]).tolist() for col in range(mat.shape[1])]\n",
    "\n",
    "def test_unique_rows():\n",
    "    #test1\n",
    "    M1 = np.array([[1, 2, 2], [3, 4, 4], [5, 6, 5]])\n",
    "    res = [[1, 2], [3, 4], [5, 6]]\n",
    "    assert unique_rows(M1) == res\n",
    "\n",
    "    #test2\n",
    "    M2 = np.array([[1, 2], [3, 4], [5, 6]])\n",
    "    res = [[1, 2], [3, 4], [5, 6]]\n",
    "    assert unique_rows(M2) == res\n",
    "\n",
    "    #test3\n",
    "    M3 = np.array([[1, 1], [2, 2], [3, 3]])\n",
    "    res = [[1], [2], [3]]\n",
    "    assert unique_rows(M3) == res\n",
    "\n",
    "def test_unique_columns():\n",
    "    #test1\n",
    "    M1 = np.array([[1, 2, 2], [1, 3, 4], [1, 4, 2]])\n",
    "    res = [[1], [2, 3, 4], [2, 4]]\n",
    "    assert unique_columns(M1) == res\n",
    "\n",
    "    #test2\n",
    "    M2 = np.array([[1, 2], [3, 4], [5, 6]])\n",
    "    res = [[1, 3, 5], [2, 4, 6]]\n",
    "    assert unique_columns(M2) == res\n",
    "\n",
    "    #test3\n",
    "    M3 = np.array([[1, 2], [1, 2], [1, 2]])\n",
    "    res = [[1], [2]]\n",
    "    assert unique_columns(M3) == res\n",
    "\n",
    "test_unique_rows()\n",
    "test_unique_columns()"
   ]
  },
  {
   "cell_type": "markdown",
   "metadata": {
    "id": "roYAlo4Jz-lH"
   },
   "source": [
    "<h1>Задача 4. Напишите функцию, которая заполняет матрицу с размерами $(m, n)$ случайными числами, распределенными по нормальному закону. Затем считает мат. ожидание и дисперсию для каждого из столбцов и строк, а также строит для каждой строки и столбца гистограмму значений (использовать функцию hist из модуля matplotlib.plot)"
   ]
  },
  {
   "cell_type": "code",
   "execution_count": null,
   "metadata": {
    "id": "nZK_71hMSQzv"
   },
   "outputs": [],
   "source": [
    "import numpy as np\n",
    "import matplotlib.pyplot as plt\n",
    "\n",
    "def random_matrix(m, n, mean=0, dev=1):\n",
    "    return np.random.normal(loc=mean, scale=dev, size=(m, n))\n",
    "\n",
    "def calculation(matrix):\n",
    "    row_means = np.mean(matrix, axis=1)  #считает мат. ожидание и дисперсию по строкам\n",
    "    row_vars = np.var(matrix, axis=1)\n",
    "    col_means = np.mean(matrix, axis=0) #считает мат. ожидание и дисперсию по столбцам\n",
    "    col_vars = np.var(matrix, axis=0)\n",
    "\n",
    "    return {\n",
    "        'row_means': row_means,\n",
    "        'row_vars': row_vars,\n",
    "        'col_means': col_means,\n",
    "        'col_vars': col_vars\n",
    "    }\n",
    "\n",
    "def histograms(matrix):\n",
    "    m, n = matrix.shape\n",
    "    \n",
    "    #для строк\n",
    "    for i in range(m):\n",
    "        plt.figure()\n",
    "        plt.hist(matrix[i, :], bins=10, color='pink', alpha=0.7)\n",
    "        plt.title(f'Гистограмма значений строки {i+1}')\n",
    "        plt.xlabel('Значения')\n",
    "        plt.ylabel('Частота')\n",
    "        plt.grid(True)\n",
    "        plt.show()\n",
    "\n",
    "    #для столбцов\n",
    "    for j in range(n):\n",
    "        plt.figure()\n",
    "        plt.hist(matrix[:, j], bins=10, color='black', alpha=0.7)\n",
    "        plt.title(f'Гистограмма значений столбца {j+1}')\n",
    "        plt.xlabel('Значения')\n",
    "        plt.ylabel('Частота')\n",
    "        plt.grid(True)\n",
    "        plt.show()\n",
    "\n",
    "def main(m, n, mean=0, dev=1):\n",
    "    matrix = random_matrix(m, n, mean, dev)\n",
    "    stats = calculation(matrix)\n",
    "    \n",
    "    print(\"Мат. ожидание по строкам:\", stats['row_means'])\n",
    "    print(\"Дисперсия по строкам:\", stats['row_vars'])\n",
    "    print(\"Мат. ожидание по столбцам:\", stats['col_means'])\n",
    "    print(\"Дисперсия по столбцам:\", stats['col_vars'])\n",
    "    \n",
    "    histograms(matrix)\n",
    "\n",
    "#пример\n",
    "main(7, 4, mean=0, dev=1)"
   ]
  },
  {
   "cell_type": "markdown",
   "metadata": {
    "id": "BDyATNdM0dJ2"
   },
   "source": [
    "<h1>Задача 5. Напишите функцию, которая заполняет матрицу $(m, n)$ в шахматном порядке заданными числами $a$ и $b$. Напишите тесты для кода"
   ]
  },
  {
   "cell_type": "code",
   "execution_count": null,
   "metadata": {
    "id": "RWNJYWQGecS6"
   },
   "outputs": [],
   "source": [
    "import numpy as np\n",
    "\n",
    "def chess(m, n, a, b):\n",
    "    matrix = np.zeros((m, n), dtype=type(a))\n",
    "    \n",
    "    #заполняем матрицу в шахматном порядке\n",
    "    for i in range(m):\n",
    "        for j in range(n):\n",
    "            if (i + j) % 2 == 0:\n",
    "                matrix[i, j] = a\n",
    "            else:\n",
    "                matrix[i, j] = b\n",
    "    \n",
    "    return matrix\n",
    "\n",
    "def test():\n",
    "    #test1\n",
    "    m, n, a, b = 3, 3, 1, 0\n",
    "    res = np.array([[1, 0, 1],\n",
    "                    [0, 1, 0],\n",
    "                    [1, 0, 1]])\n",
    "    assert np.array_equal(chess(m, n, a, b), res)\n",
    "\n",
    "    #test2\n",
    "    m, n, a, b = 2, 5, 10, 20\n",
    "    res = np.array([[10, 20, 10, 20, 10],\n",
    "                    [20, 10, 20, 10, 20]])\n",
    "    assert np.array_equal(chess(m, n, a, b), res)\n",
    "\n",
    "    #test3\n",
    "    m, n, a, b = 3, 2, 3.14, 2.71\n",
    "    res = np.array([[3.14, 2.71],\n",
    "                    [2.71, 3.14],\n",
    "                    [3.14, 2.71]])\n",
    "    assert np.array_equal(chess(m, n, a, b), res)\n",
    "\n",
    "test()"
   ]
  },
  {
   "cell_type": "markdown",
   "metadata": {
    "id": "-ymXLtTN0vB6"
   },
   "source": [
    "<h1>Задача 6. Напишите функцию, которая отрисовывает прямоугольник с заданными размерами (a, b) на изображении размера (m, n), цвет фона задайте в схеме RGB, как и цвет прямоугольника. Цвета также должны быть параметрами функции. Напишите аналогичную функцию но для овала с полуосями a и b. Напишите тесты для кода.\n",
    "Примечание: уравнение эллипса (границы овала) можно записать как:\n",
    "<h1>$\\frac{(x-x_0)^2}{a^2}+\\frac{(y-y_0)^2}{b^2}=1$"
   ]
  },
  {
   "cell_type": "code",
   "execution_count": 1,
   "metadata": {
    "id": "sNfl1t_kfOF4"
   },
   "outputs": [],
   "source": [
    "import numpy as np\n",
    "import matplotlib.pyplot as plt\n",
    "\n",
    "def draw_rectangle(m, n, a, b, rectangle_color, background_color):\n",
    "    img = np.zeros((m, n, 3), dtype=np.uint8)\n",
    "    img[:] = background_color\n",
    "    X0 = (n - a) // 2\n",
    "    Y0 = (m - b) // 2\n",
    "    img[Y0:Y0 + b, X0:X0 + a] = rectangle_color\n",
    "    \n",
    "    plt.imshow(img)\n",
    "    plt.show()\n",
    "\n",
    "def draw_ellipse(m, n, a, b, ellipse_color, background_color):\n",
    "    img = np.zeros((m, n, 3), dtype=np.uint8)\n",
    "    img[:] = background_color\n",
    "    X0, Y0 = n // 2, m // 2\n",
    "  \n",
    "    for y in range(m):\n",
    "        for x in range(n):\n",
    "            if (((x - X0) ** 2) / (a ** 2) + ((y - Y0) ** 2) / (b ** 2)) <= 1:\n",
    "                img[y, x] = ellipse_color\n",
    "\n",
    "    plt.imshow(img)\n",
    "    plt.show()\n",
    "\n",
    "def test():\n",
    "    m, n = 200, 200  \n",
    "    draw_rectangle(m, n, a=75, b=41, rectangle_color=(255, 192, 203), background_color=(255, 255, 255))\n",
    "    draw_ellipse(m, n, a=20, b=50, ellipse_color=(128, 0, 128), background_color=(255, 255, 255))\n",
    "test()"
   ]
  },
  {
   "cell_type": "markdown",
   "metadata": {
    "id": "S82c38oz244H"
   },
   "source": [
    "<h1>Задача 7. Дан некий временной ряд. Для данного ряда нужно найти его: математическое ожидание, дисперсию, СКО, найти все локальные максимумы и минимумы (локальный максимум - это точка, которая больше своих соседних точек, а локальный минимум - это точка, которая меньше своих соседей), а также вычислить для данного ряда другой ряд, получаемый методом скользящего среднего с размером окна $p$.\n",
    "<h1>Примечание: метод скользящего среднего подразумевает нахождение среднего из подмножетсва ряда размером $p$"
   ]
  },
  {
   "cell_type": "code",
   "execution_count": null,
   "metadata": {
    "id": "Zb9mIVge5MMt"
   },
   "outputs": [],
   "source": [
    "import numpy as np\n",
    "import pandas as pd\n",
    "import matplotlib.pyplot as plt\n",
    "\n",
    "def analyze(data, p):\n",
    "    data = np.array(data)\n",
    "    mean = np.mean(data)\n",
    "    variance = np.var(data)\n",
    "    dev = np.std(data)\n",
    "\n",
    "    local_max = (data[1:-1] > data[:-2]) & (data[1:-1] > data[2:])\n",
    "    local_min = (data[1:-1] < data[:-2]) & (data[1:-1] < data[2:])\n",
    "\n",
    "    local_max_indices = np.where(local_max)[0] + 1\n",
    "    local_min_indices = np.where(local_min)[0] + 1\n",
    "\n",
    "    local_max_values = data[local_max_indices]\n",
    "    local_min_values = data[local_min_indices]\n",
    "\n",
    "    rolling_mean = pd.Series(data).rolling(window=p).mean().to_numpy()\n",
    "\n",
    "    res = {\n",
    "        'mean': mean,\n",
    "        'variance': variance,\n",
    "        'dev': dev,\n",
    "        'local_max': (local_max_indices, local_max_values),\n",
    "        'local_min': (local_min_indices, local_min_values),\n",
    "        'rolling_mean': rolling_mean\n",
    "    }\n",
    "\n",
    "    return res\n",
    "\n",
    "def plot_res(data, res, p):\n",
    "    plt.figure(figsize=(14, 7))\n",
    "\n",
    "    #временной ряд\n",
    "    plt.subplot(2, 1, 1)\n",
    "    plt.plot(data, label='Original Time Series', color='red')\n",
    "    plt.scatter(res['local_max'][0], res['local_max'][1], color='blue', label='Local Maxima')\n",
    "    plt.scatter(res['local_min'][0], res['local_min'][1], color='black', label='Local Minima')\n",
    "    plt.title('Time Series with Local Maxima and Minima')\n",
    "    plt.xlabel('Index')\n",
    "    plt.ylabel('Value')\n",
    "    plt.legend()\n",
    "    plt.grid()\n",
    "\n",
    "    #скользящее среднее\n",
    "    plt.subplot(2, 1, 2)\n",
    "    plt.plot(data, label='Original Time Series', color='purple', alpha=0.5)\n",
    "    plt.plot(res['rolling_mean'], label=f'Rolling Mean (window={p})', color='orange')\n",
    "    plt.title('Rolling Mean')\n",
    "    plt.xlabel('Index')\n",
    "    plt.ylabel('Value')\n",
    "    plt.legend()\n",
    "    plt.grid()\n",
    "\n",
    "    plt.tight_layout()\n",
    "    plt.show()\n",
    "\n",
    "\n",
    "if __name__ == \"__main__\":\n",
    "    np.random.seed(0)  \n",
    "    series_data = np.random.randn(10)  \n",
    "    p = 5\n",
    "    res = analyze(series_data, p)\n",
    "\n",
    "    print(\"Математическое ожидание:\", res['mean'])\n",
    "    print(\"Дисперсия:\", res['variance'])\n",
    "    print(\"Стандартное отклонение:\", res['dev'])\n",
    "    print(\"Локальные максимумы (индексы и значения):\", res['local_max'])\n",
    "    print(\"Локальные минимумы (индексы и значения):\", res['local_min'])\n",
    "    print(\"Скользящее среднее:\", res['rolling_mean'])\n",
    "\n",
    "    plot_res(series_data, res, p)"
   ]
  },
  {
   "cell_type": "markdown",
   "metadata": {
    "id": "jPkylmOX5O9n"
   },
   "source": [
    "<h1> Задача 8. Дан некоторый вектор с целочисленными метками классов, напишите функцию, которая выполняет one-hot-encoding для данного вектора\n",
    "<h1> One-hot-encoding - представление, в котором на месте метки некоторого класса стоит 1, в остальных позициях стоит 0. Например для вектора [0, 2, 3, 0] one-hot-encoding выглядит как: [[1, 0, 0, 0], [0, 0, 1, 0], [0, 0, 0, 1], [1, 0, 0, 0]]"
   ]
  },
  {
   "cell_type": "code",
   "execution_count": null,
   "metadata": {
    "id": "Y-jlnZvw56lD"
   },
   "outputs": [],
   "source": [
    "import numpy as np\n",
    "\n",
    "def one_hot_encoding(labels):\n",
    "    labels = np.array(labels)\n",
    "    num_classes = np.max(labels) + 1  # +1, тк метки начинаются с 0\n",
    "    matrix = np.zeros((labels.size, num_classes), dtype=int)\n",
    "    matrix[np.arange(labels.size), labels] = 1\n",
    "    \n",
    "    return matrix"
   ]
  }
 ],
 "metadata": {
  "colab": {
   "provenance": []
  },
  "kernelspec": {
   "display_name": "Python 3 (ipykernel)",
   "language": "python",
   "name": "python3"
  },
  "language_info": {
   "codemirror_mode": {
    "name": "ipython",
    "version": 3
   },
   "file_extension": ".py",
   "mimetype": "text/x-python",
   "name": "python",
   "nbconvert_exporter": "python",
   "pygments_lexer": "ipython3",
   "version": "3.12.6"
  }
 },
 "nbformat": 4,
 "nbformat_minor": 4
}
