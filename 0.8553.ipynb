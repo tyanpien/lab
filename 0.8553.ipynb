{
  "cells": [
    {
      "cell_type": "markdown",
      "id": "cfa87c9f-dd5d-4cf7-a9f4-50de4b36ce40",
      "metadata": {
        "id": "cfa87c9f-dd5d-4cf7-a9f4-50de4b36ce40"
      },
      "source": [
        "## Классификация изображений\n",
        "### Вводные слова\n",
        "Задача классификации изображений - это одна из ключевых задач в области компьютерного зрения и машинного обучения. Она заключается в том, чтобы разработать модель, способную автоматически определить, к какому классу или категории принадлежит данное изображение. Классификация используется в следующих задачах: классификация спектрограмм музыкальных записей для выявления предпочтений конкретного пользователя, классификация изображений для автоматической идентификации людей на фотографиях, кластеризация покупок пользователя в интернет-магазине для формирования целевой рекламы, и так далее\n",
        "### Рекомендации\n",
        "Работу лучше выполнять в среде Google Colab, поскольку потребуется осуществлять вычисления на видеокарте. В Colab в меню нажмите на Изменить->Настройки блокнота и выберите доступный GPU. Это позволит использовать для обучения CUDA\n",
        "### Цель работы и задачи\n",
        "В данной работе мы разработаем модель, для предсказания класса на датасете cifar-10. Ниже будет представлена baseline модель, основываясь на которой вы можете строить свою модель для классификации\n",
        "\\\n",
        "Задачи, которые вам нужно решить в работе:\n",
        "\\\n",
        "Обязательные:\n",
        "- Построить распределение классов в данных\n",
        "- Подготовить данные и обучить baseline-модель на датасете\n",
        "- Оценить качество модели\n",
        "- Написать свою модель и обучить ее\n",
        "\n",
        "Желательные:\n",
        "- Подумать об архитектуре модели, быть может стоит сделать ее глубже, добавить боковые связи и т.д.\n",
        "- Задуматься об аугментации\n",
        "- Попробовать transfer-learning\n",
        "\n",
        "\\\n",
        "\\\n",
        "Ваша работа будет оцениваться исходя из 2 факторов:\n",
        "- контрольная метрика\n",
        "- протокол исследования, которым и будет служить этот Jupyter-Notebook\n",
        "\n",
        "\\\n",
        "Максимальный балл за работу - 20.\n",
        "\\\n",
        "Удачи!"
      ]
    },
    {
      "cell_type": "markdown",
      "id": "f7e69704-f4ce-4b25-98ce-5e98630a389d",
      "metadata": {
        "id": "f7e69704-f4ce-4b25-98ce-5e98630a389d"
      },
      "source": [
        "## Baseline-модель"
      ]
    },
    {
      "cell_type": "code",
      "execution_count": 2,
      "id": "e06b4054-5e95-4ce5-96b0-e0817d64e809",
      "metadata": {
        "id": "e06b4054-5e95-4ce5-96b0-e0817d64e809"
      },
      "outputs": [],
      "source": [
        "import torch\n",
        "import torch.nn as nn\n",
        "import torch.optim as optim\n",
        "import torchvision\n",
        "import torchvision.transforms as transforms\n",
        "from torch.optim.lr_scheduler import StepLR\n",
        "import matplotlib.pyplot as plt\n",
        "import numpy as np\n",
        "from sklearn.model_selection import train_test_split\n",
        "from tqdm import tqdm\n",
        "import torch.nn.functional as F"
      ]
    },
    {
      "cell_type": "markdown",
      "id": "cbb6abc6-ee2d-408a-8521-11c9602e63ce",
      "metadata": {
        "id": "cbb6abc6-ee2d-408a-8521-11c9602e63ce"
      },
      "source": [
        "Обучать мы будем, разумеется, на cuda, поэтому, создадим переменную device, которая будет зависеть от того, доступна ли видеокарта для вычислений"
      ]
    },
    {
      "cell_type": "code",
      "execution_count": 4,
      "id": "17f8d12f-a0c3-44e7-912f-59485c4146c7",
      "metadata": {
        "colab": {
          "base_uri": "https://localhost:8080/"
        },
        "id": "17f8d12f-a0c3-44e7-912f-59485c4146c7",
        "outputId": "3e1cbc4a-3447-4f37-c7aa-7ff713e6798a"
      },
      "outputs": [
        {
          "output_type": "stream",
          "name": "stdout",
          "text": [
            "Running on cpu\n"
          ]
        }
      ],
      "source": [
        "device = torch.device('cuda') if torch.cuda.is_available() else torch.device('cpu')\n",
        "print(f'Running on {device}')\n",
        "\n",
        "# Функция для подсчета числа параметров\n",
        "def count_parameters(model):\n",
        "    return sum(p.numel() for p in model.parameters() if p.requires_grad)"
      ]
    },
    {
      "cell_type": "code",
      "execution_count": 5,
      "id": "76fc0bb5-d955-4516-a47d-16b29c29a0af",
      "metadata": {
        "id": "76fc0bb5-d955-4516-a47d-16b29c29a0af"
      },
      "outputs": [],
      "source": [
        "class Baseline(nn.Module):\n",
        "    def __init__(self, num_classes=10):\n",
        "        super(Baseline, self).__init__()\n",
        "        self.conv1 = nn.Conv2d(3, 32, kernel_size=3, padding=1)\n",
        "        self.bn1 = nn.BatchNorm2d(32)\n",
        "        self.conv2 = nn.Conv2d(32, 64, kernel_size=3, padding=1)\n",
        "        self.bn2 = nn.BatchNorm2d(64)\n",
        "        self.conv3 = nn.Conv2d(64, 128, kernel_size=3, padding=1)\n",
        "        self.bn3 = nn.BatchNorm2d(128)\n",
        "        self.conv4 = nn.Conv2d(128, 256, kernel_size=3, padding=1)\n",
        "        self.bn4 = nn.BatchNorm2d(256)\n",
        "        self.fc1 = nn.Linear(256 * 2 * 2, 512)  # Проверим и адаптируем размер\n",
        "        self.dropout1 = nn.Dropout(0.5)\n",
        "        self.fc2 = nn.Linear(512, num_classes)\n",
        "\n",
        "    def forward(self, x):\n",
        "        x = F.relu(self.bn1(self.conv1(x)))\n",
        "        x = F.max_pool2d(x, 2)\n",
        "        x = F.relu(self.bn2(self.conv2(x)))\n",
        "        x = F.max_pool2d(x, 2)\n",
        "        x = F.relu(self.bn3(self.conv3(x)))\n",
        "        x = F.max_pool2d(x, 2)\n",
        "        x = F.relu(self.bn4(self.conv4(x)))\n",
        "        x = F.max_pool2d(x, 2)\n",
        "        x = torch.flatten(x, 1)  # Автоматическое преобразование тензора\n",
        "        x = F.relu(self.fc1(x))\n",
        "        x = self.dropout1(x)\n",
        "        x = self.fc2(x)\n",
        "        return x"
      ]
    },
    {
      "cell_type": "markdown",
      "id": "66a75636-3a12-42d0-a050-51b79b9b76ba",
      "metadata": {
        "id": "66a75636-3a12-42d0-a050-51b79b9b76ba"
      },
      "source": [
        "Загрузим данные, построим диаграммы для распределения классов и посмотрим на сами картинки"
      ]
    },
    {
      "cell_type": "code",
      "execution_count": 6,
      "id": "552abcaa-ae9a-4f77-a0b7-05311057d3cb",
      "metadata": {
        "colab": {
          "base_uri": "https://localhost:8080/",
          "height": 876
        },
        "id": "552abcaa-ae9a-4f77-a0b7-05311057d3cb",
        "outputId": "9d306b4f-dfaf-4602-f01a-530f4dbb6a0e"
      },
      "outputs": [
        {
          "output_type": "stream",
          "name": "stdout",
          "text": [
            "Downloading https://www.cs.toronto.edu/~kriz/cifar-10-python.tar.gz to ./data/cifar-10-python.tar.gz\n"
          ]
        },
        {
          "output_type": "stream",
          "name": "stderr",
          "text": [
            "100%|██████████| 170M/170M [00:03<00:00, 48.8MB/s]\n"
          ]
        },
        {
          "output_type": "stream",
          "name": "stdout",
          "text": [
            "Extracting ./data/cifar-10-python.tar.gz to ./data\n",
            "Files already downloaded and verified\n"
          ]
        },
        {
          "output_type": "display_data",
          "data": {
            "text/plain": [
              "<Figure size 1000x800 with 1 Axes>"
            ],
            "image/png": "[encoded data removed]"
          },
          "metadata": {}
        }
      ],
      "source": [
        "# Будем превращать картинку в torch.Tensor\n",
        "transform = transforms.ToTensor()\n",
        "\n",
        "# Аугментации для обучения\n",
        "transform_train = transforms.Compose([\n",
        "    transforms.RandomCrop(32, padding=4),\n",
        "    transforms.RandomHorizontalFlip(),\n",
        "    transforms.RandomRotation(15),\n",
        "    transforms.ColorJitter(brightness=0.2, contrast=0.2, saturation=0.2, hue=0.1),\n",
        "    transforms.RandomAffine(degrees=0, translate=(0.1, 0.1)),\n",
        "    transforms.ToTensor(),\n",
        "    transforms.Normalize((0.5, 0.5, 0.5), (0.5, 0.5, 0.5))\n",
        "])\n",
        "\n",
        "# Аугментация для теста (только нормализация)\n",
        "transform_test = transforms.Compose([\n",
        "    transforms.ToTensor(),\n",
        "    transforms.Normalize((0.5, 0.5, 0.5), (0.5, 0.5, 0.5))\n",
        "])\n",
        "\n",
        "# Загрузка данных\n",
        "train_dataset = torchvision.datasets.CIFAR10(root='./data', train=True, transform=transform_train, download=True)\n",
        "test_dataset = torchvision.datasets.CIFAR10(root='./data', train=False, transform=transform_test, download=True)\n",
        "\n",
        "# Получим метки классов\n",
        "class_labels = train_dataset.classes\n",
        "class_counts = np.array([0] * len(class_labels))\n",
        "\n",
        "# Посчитаем число меток классов\n",
        "for _, label in train_dataset:\n",
        "    class_counts[label] += 1\n",
        "\n",
        "class_counts = class_counts / class_counts.sum() * 100\n",
        "\n",
        "# Построим диаграмму\n",
        "plt.figure(figsize=(10, 8))\n",
        "plt.bar(class_labels, class_counts)\n",
        "plt.xlabel('Классы')\n",
        "plt.ylabel('Количество изображений, %')\n",
        "plt.title('Распределение классов в датасете CIFAR-10')\n",
        "plt.xticks(rotation=45)\n",
        "plt.tight_layout()\n",
        "plt.show()"
      ]
    },
    {
      "cell_type": "code",
      "execution_count": 7,
      "id": "f4505ddd-6bdb-42eb-9d83-c78091a824b4",
      "metadata": {
        "colab": {
          "base_uri": "https://localhost:8080/",
          "height": 831
        },
        "id": "f4505ddd-6bdb-42eb-9d83-c78091a824b4",
        "outputId": "03c41155-155e-4296-8a46-9327bfff01fa"
      },
      "outputs": [
        {
          "output_type": "stream",
          "name": "stderr",
          "text": [
            "WARNING:matplotlib.image:Clipping input data to the valid range for imshow with RGB data ([0..1] for floats or [0..255] for integers).\n",
            "WARNING:matplotlib.image:Clipping input data to the valid range for imshow with RGB data ([0..1] for floats or [0..255] for integers).\n",
            "WARNING:matplotlib.image:Clipping input data to the valid range for imshow with RGB data ([0..1] for floats or [0..255] for integers).\n",
            "WARNING:matplotlib.image:Clipping input data to the valid range for imshow with RGB data ([0..1] for floats or [0..255] for integers).\n",
            "WARNING:matplotlib.image:Clipping input data to the valid range for imshow with RGB data ([0..1] for floats or [0..255] for integers).\n",
            "WARNING:matplotlib.image:Clipping input data to the valid range for imshow with RGB data ([0..1] for floats or [0..255] for integers).\n",
            "WARNING:matplotlib.image:Clipping input data to the valid range for imshow with RGB data ([0..1] for floats or [0..255] for integers).\n",
            "WARNING:matplotlib.image:Clipping input data to the valid range for imshow with RGB data ([0..1] for floats or [0..255] for integers).\n",
            "WARNING:matplotlib.image:Clipping input data to the valid range for imshow with RGB data ([0..1] for floats or [0..255] for integers).\n"
          ]
        },
        {
          "output_type": "display_data",
          "data": {
            "text/plain": [
              "<Figure size 800x800 with 9 Axes>"
            ],
            "image/png": "[encoded data removed]"
          },
          "metadata": {}
        }
      ],
      "source": [
        "indices = np.random.choice(len(train_dataset), 9, replace=False)\n",
        "\n",
        "# Создайте сетку 3x3 для отображения изображений\n",
        "fig, axes = plt.subplots(3, 3, figsize=(8, 8))\n",
        "for i, ax in enumerate(axes.flat):\n",
        "    image, label = train_dataset[indices[i]]\n",
        "    image = image.numpy().transpose((1, 2, 0))  # Перевести изображение из формата (C, H, W) в (H, W, C)\n",
        "    ax.imshow(image)\n",
        "    ax.set_title(f'Label: {label}')\n",
        "    ax.axis('off')\n",
        "\n",
        "plt.show()"
      ]
    },
    {
      "cell_type": "markdown",
      "id": "2d176f3c-b153-4ed8-8963-b268f7b5972f",
      "metadata": {
        "id": "2d176f3c-b153-4ed8-8963-b268f7b5972f"
      },
      "source": [
        "Сделайте вывод о сбалансированности датасета:\n",
        "\\\n",
        "Исходя из этого, какие метрики будем применять для оценки качества модели?"
      ]
    },
    {
      "cell_type": "markdown",
      "source": [
        "Датасет сбалансирован. Поэтому для оценки качества модели подойдут стандартные метрики, такие как Accuracy и Cross-Entropy Loss."
      ],
      "metadata": {
        "id": "uNNmyJniITYX"
      },
      "id": "uNNmyJniITYX"
    },
    {
      "cell_type": "markdown",
      "id": "f411c3aa-4894-40f4-9f2e-5cab17405d05",
      "metadata": {
        "id": "f411c3aa-4894-40f4-9f2e-5cab17405d05"
      },
      "source": [
        "Напишем функции train и test"
      ]
    },
    {
      "cell_type": "code",
      "execution_count": 8,
      "id": "85dd72a1-ff5a-493e-be70-da9af9efcc22",
      "metadata": {
        "id": "85dd72a1-ff5a-493e-be70-da9af9efcc22"
      },
      "outputs": [],
      "source": [
        "def train(model, train_loader, val_loader, criterion, optimizer, device, epochs=10):\n",
        "    model.train()\n",
        "    model = model.to(device) # переносит модель на указанное устройство (GPU или CPU) # .to(?)\n",
        "    train_loss_history = []\n",
        "    train_acc_history = []\n",
        "    val_loss_history = []\n",
        "    val_acc_history = []\n",
        "    for epoch in range(epochs):\n",
        "        running_loss = 0.0\n",
        "        correct = 0\n",
        "        total = 0\n",
        "        pbar = tqdm(enumerate(train_loader), total=len(train_loader), ncols=100, desc='Train epoch {}/{}'.format(epoch + 1, epochs))\n",
        "        for batch_idx, (inputs, labels) in pbar:\n",
        "            inputs, labels = inputs.to(device), labels.to(device)\n",
        "            # Занулите градиенты оптимизатора\n",
        "            optimizer.zero_grad() # обнуляет градиенты всех параметров модели перед обратным проходом # .?()\n",
        "            # Прямой проход\n",
        "            outputs = model(inputs) # происходит прямой проход данных через модель для получения выходных значений # ?\n",
        "            loss = criterion(outputs, labels) # Вычисление функции потерь между предсказанными выходами модели и истинными метками # (?, ?)\n",
        "\n",
        "            # Сделайте обратный проход\n",
        "            loss.backward() # запускает обратный проход для вычисления градиентов по параметрам модели # .?()\n",
        "            # Сделайте шаг оптимизации\n",
        "            optimizer.step()\n",
        "\n",
        "            running_loss += loss.item()\n",
        "\n",
        "            # Вычислите точность предсказания\n",
        "            _, predicted = torch.max(outputs.data, 1)\n",
        "            total += labels.size(0) # Увеличивает переменную `total` на количество элементов в текущем пакете (размер батча) # ?\n",
        "            correct += (predicted == labels).sum().item() # Увеличивает переменную `correct` на количество правильно предсказанных меток в текущем пакете # ?\n",
        "            pbar.set_postfix({'loss': '{:.4f}'.format(running_loss / (batch_idx + 1)), 'accuracy': '{:.4f}'.format(correct / total)})\n",
        "        scheduler.step()\n",
        "        print(f'Epoch {epoch+1}, Loss: {running_loss/len(train_loader):.4f}, Acc: {correct/total:.4f}')\n",
        "\n",
        "        train_loss_history.append(running_loss / len(train_loader))\n",
        "        train_acc_history.append(correct / total)\n",
        "        correct = 0\n",
        "        total = 0\n",
        "        test_loss = 0.0\n",
        "        pbar = tqdm(enumerate(val_loader), total=len(val_loader), ncols=100, desc='Val {}/{}'.format(epoch + 1, epochs))\n",
        "        with torch.no_grad():\n",
        "            for batch_idx, (inputs, labels) in pbar:\n",
        "                inputs, labels = inputs.to(device), labels.to(device)\n",
        "                outputs = model(inputs) # Снова происходит прямой проход данных через модель для получения выходных значений во время проверки (валидации) # (?)\n",
        "                loss = criterion(outputs, labels) # вычисление функции потерь между предсказанными выходами модели и истинными метками во время проверки # (?, ?)\n",
        "                test_loss += loss.item()\n",
        "                _, predicted = torch.max(outputs.data, 1)\n",
        "                total += labels.size(0) # Увеличивает переменную `total` на количество элементов в текущем пакете во время проверки # ?\n",
        "                correct += (predicted == labels).sum().item() # Увеличивает переменную `correct` на количество правильно предсказанных меток в текущем пакете во время проверки # ?\n",
        "                pbar.set_postfix({'loss': '{:.4f}'.format(test_loss / (batch_idx + 1)), 'accuracy': '{:.4f}'.format(correct / total)})\n",
        "        val_loss_history.append(test_loss / len(val_loader))\n",
        "        val_acc_history.append(correct / total)\n",
        "\n",
        "    return train_loss_history, train_acc_history, val_loss_history, val_acc_history\n",
        "\n",
        "def test(model, test_loader, criterion, device):\n",
        "    model.eval()\n",
        "    correct = 0\n",
        "    total = 0\n",
        "    test_loss = 0.0\n",
        "    with torch.no_grad():\n",
        "        for inputs, labels in test_loader:\n",
        "            inputs, labels = inputs.to(device), labels.to(device)\n",
        "            outputs = model(inputs) # происходит прямой проход данных через модель для получения выходных значений # ?\n",
        "            loss = criterion(outputs, labels) # вычисление функции потерь между предсказанными выходами модели и истинными метками во время проверки # (?, ?)\n",
        "            test_loss += loss.item()\n",
        "            _, predicted = torch.max(outputs.data, 1)\n",
        "            total += labels.size(0) # Увеличивает переменную `total` на количество элементов в текущем пакете во время проверки # ?\n",
        "            correct += (predicted == labels).sum().item() # Увеличивает переменную `correct` на количество правильно предсказанных меток в текущем пакете во время проверки # ?\n",
        "\n",
        "    accuracy = correct / total\n",
        "    average_loss = test_loss / len(test_loader)\n",
        "\n",
        "    return accuracy, average_loss"
      ]
    },
    {
      "cell_type": "markdown",
      "id": "1aba5730-5f22-4715-b181-5d3878fa12bc",
      "metadata": {
        "id": "1aba5730-5f22-4715-b181-5d3878fa12bc"
      },
      "source": [
        "Сделайте разделение на train и val\n",
        "\\\n",
        "Зачем так делать?"
      ]
    },
    {
      "cell_type": "markdown",
      "source": [
        "Обучающая выборка используется для тренировки модели, она учится выявлять паттерны и зависимости в данных. Валидационная выборка позволяет оценить качество модели на данных, которые она не видела во время обучения. Это помогает избежать переобучения и настроить гиперпараметры"
      ],
      "metadata": {
        "id": "86oFCVJYIaFu"
      },
      "id": "86oFCVJYIaFu"
    },
    {
      "cell_type": "code",
      "execution_count": 9,
      "id": "e53ab630-8224-4d2f-9d02-79ab163d3fd1",
      "metadata": {
        "id": "e53ab630-8224-4d2f-9d02-79ab163d3fd1"
      },
      "outputs": [],
      "source": [
        "train_size = int(0.9 * len(train_dataset))\n",
        "val_size = len(train_dataset) - train_size\n",
        "\n",
        "train_dataset, val_dataset = torch.utils.data.random_split(train_dataset, [train_size, val_size])"
      ]
    },
    {
      "cell_type": "markdown",
      "id": "d0108c36-a287-410a-a4db-ec018503f113",
      "metadata": {
        "id": "d0108c36-a287-410a-a4db-ec018503f113"
      },
      "source": [
        "Создайте Dataloader'ы и настройте гиперпараметры, оптимизатор и функцию потерь\n",
        "\\\n",
        "Какой оптимизатор будете использовать и почему, а какую loss-функцию?"
      ]
    },
    {
      "cell_type": "markdown",
      "source": [
        "Оптимизатор я возьму Adam, потому что он лучше справляется с регуляризацией, что помогает избежать переобучения. Функция потерь я возьму CrossEntropyLoss, так как она хорошо подходит для многоклассовой классификации"
      ],
      "metadata": {
        "id": "VQuKVwdDI2d2"
      },
      "id": "VQuKVwdDI2d2"
    },
    {
      "cell_type": "code",
      "execution_count": 10,
      "id": "2a4a9cbd-5969-4bac-8fa0-9f5415082b2b",
      "metadata": {
        "colab": {
          "base_uri": "https://localhost:8080/"
        },
        "id": "2a4a9cbd-5969-4bac-8fa0-9f5415082b2b",
        "outputId": "abdec1ad-0019-4899-8769-40377bffea6d"
      },
      "outputs": [
        {
          "output_type": "stream",
          "name": "stdout",
          "text": [
            "Model params:  919306\n"
          ]
        }
      ],
      "source": [
        "# Гиперпараметры\n",
        "learning_rate = 0.0005  # Скорость обучения - параметр оптимизатора, определяющий размер шага при обновлении весов модели\n",
        "num_epochs = 70 # Количество эпох - количество полных проходов через все обучающие данные\n",
        "batch_size = 64 # Размер пакета - количество примеров обучающих данных, передаваемых модели за одну итерацию\n",
        "\n",
        "model = Baseline().to(device)\n",
        "criterion = nn.CrossEntropyLoss(label_smoothing=0.1)\n",
        "optimizer = optim.AdamW(model.parameters(), lr=learning_rate)\n",
        "scheduler = optim.lr_scheduler.StepLR(optimizer, step_size=10, gamma=0.1)\n",
        "\n",
        "print('Model params: ', count_parameters(model))\n",
        "\n",
        "# Определяем функцию потерь и оптимизатор\n",
        "criterion = nn.CrossEntropyLoss() # Функция потерь для задачи классификации\n",
        "optimizer = torch.optim.Adam(model.parameters(), lr=learning_rate) # Оптимизатор Adam для обновления параметров модели на основе градиентов\n",
        "\n",
        "train_loader = torch.utils.data.DataLoader(train_dataset, batch_size=64, shuffle=True)\n",
        "val_loader = torch.utils.data.DataLoader(val_dataset, batch_size=64, shuffle=False)\n",
        "test_loader = torch.utils.data.DataLoader(test_dataset, batch_size=64, shuffle=False)"
      ]
    },
    {
      "cell_type": "markdown",
      "id": "6f1ff197-828a-4eda-ac8d-6a07d9597db5",
      "metadata": {
        "id": "6f1ff197-828a-4eda-ac8d-6a07d9597db5"
      },
      "source": [
        "Обучите модель и постройте графики обучения"
      ]
    },
    {
      "cell_type": "code",
      "execution_count": 11,
      "id": "f7508531-309f-4e77-8c98-0c8e41005eb1",
      "metadata": {
        "colab": {
          "base_uri": "https://localhost:8080/"
        },
        "id": "f7508531-309f-4e77-8c98-0c8e41005eb1",
        "outputId": "f4a7dc1f-627b-4635-8c09-568a91251e09"
      },
      "outputs": [
        {
          "output_type": "stream",
          "name": "stderr",
          "text": [
            "Train epoch 1/70: 100%|█████████████| 704/704 [03:43<00:00,  3.15it/s, loss=1.6525, accuracy=0.3873]\n",
            "/usr/local/lib/python3.10/dist-packages/torch/optim/lr_scheduler.py:224: UserWarning: Detected call of `lr_scheduler.step()` before `optimizer.step()`. In PyTorch 1.1.0 and later, you should call them in the opposite order: `optimizer.step()` before `lr_scheduler.step()`.  Failure to do this will result in PyTorch skipping the first value of the learning rate schedule. See more details at https://pytorch.org/docs/stable/optim.html#how-to-adjust-learning-rate\n",
            "  warnings.warn(\n"
          ]
        },
        {
          "output_type": "stream",
          "name": "stdout",
          "text": [
            "Epoch 1, Loss: 1.6525, Acc: 0.3873\n"
          ]
        },
        {
          "output_type": "stream",
          "name": "stderr",
          "text": [
            "Val 1/70: 100%|███████████████████████| 79/79 [00:15<00:00,  5.21it/s, loss=1.4247, accuracy=0.4786]\n",
            "Train epoch 2/70: 100%|█████████████| 704/704 [03:48<00:00,  3.08it/s, loss=1.3479, accuracy=0.5132]\n"
          ]
        },
        {
          "output_type": "stream",
          "name": "stdout",
          "text": [
            "Epoch 2, Loss: 1.3479, Acc: 0.5132\n"
          ]
        },
        {
          "output_type": "stream",
          "name": "stderr",
          "text": [
            "Val 2/70: 100%|███████████████████████| 79/79 [00:15<00:00,  5.14it/s, loss=1.2617, accuracy=0.5474]\n",
            "Train epoch 3/70: 100%|█████████████| 704/704 [03:51<00:00,  3.03it/s, loss=1.2148, accuracy=0.5664]\n"
          ]
        },
        {
          "output_type": "stream",
          "name": "stdout",
          "text": [
            "Epoch 3, Loss: 1.2148, Acc: 0.5664\n"
          ]
        },
        {
          "output_type": "stream",
          "name": "stderr",
          "text": [
            "Val 3/70: 100%|███████████████████████| 79/79 [00:15<00:00,  5.10it/s, loss=1.1653, accuracy=0.5954]\n",
            "Train epoch 4/70: 100%|█████████████| 704/704 [03:49<00:00,  3.06it/s, loss=1.1267, accuracy=0.6003]\n"
          ]
        },
        {
          "output_type": "stream",
          "name": "stdout",
          "text": [
            "Epoch 4, Loss: 1.1267, Acc: 0.6003\n"
          ]
        },
        {
          "output_type": "stream",
          "name": "stderr",
          "text": [
            "Val 4/70: 100%|███████████████████████| 79/79 [00:15<00:00,  5.11it/s, loss=1.1128, accuracy=0.6032]\n",
            "Train epoch 5/70: 100%|█████████████| 704/704 [03:51<00:00,  3.04it/s, loss=1.0644, accuracy=0.6255]\n"
          ]
        },
        {
          "output_type": "stream",
          "name": "stdout",
          "text": [
            "Epoch 5, Loss: 1.0644, Acc: 0.6255\n"
          ]
        },
        {
          "output_type": "stream",
          "name": "stderr",
          "text": [
            "Val 5/70: 100%|███████████████████████| 79/79 [00:15<00:00,  5.15it/s, loss=1.0162, accuracy=0.6434]\n",
            "Train epoch 6/70: 100%|█████████████| 704/704 [03:49<00:00,  3.07it/s, loss=1.0147, accuracy=0.6469]\n"
          ]
        },
        {
          "output_type": "stream",
          "name": "stdout",
          "text": [
            "Epoch 6, Loss: 1.0147, Acc: 0.6469\n"
          ]
        },
        {
          "output_type": "stream",
          "name": "stderr",
          "text": [
            "Val 6/70: 100%|███████████████████████| 79/79 [00:15<00:00,  5.15it/s, loss=0.9779, accuracy=0.6554]\n",
            "Train epoch 7/70: 100%|█████████████| 704/704 [03:47<00:00,  3.09it/s, loss=0.9729, accuracy=0.6598]\n"
          ]
        },
        {
          "output_type": "stream",
          "name": "stdout",
          "text": [
            "Epoch 7, Loss: 0.9729, Acc: 0.6598\n"
          ]
        },
        {
          "output_type": "stream",
          "name": "stderr",
          "text": [
            "Val 7/70: 100%|███████████████████████| 79/79 [00:15<00:00,  5.17it/s, loss=0.9643, accuracy=0.6604]\n",
            "Train epoch 8/70: 100%|█████████████| 704/704 [03:48<00:00,  3.08it/s, loss=0.9296, accuracy=0.6743]\n"
          ]
        },
        {
          "output_type": "stream",
          "name": "stdout",
          "text": [
            "Epoch 8, Loss: 0.9296, Acc: 0.6743\n"
          ]
        },
        {
          "output_type": "stream",
          "name": "stderr",
          "text": [
            "Val 8/70: 100%|███████████████████████| 79/79 [00:15<00:00,  5.24it/s, loss=0.9330, accuracy=0.6716]\n",
            "Train epoch 9/70: 100%|█████████████| 704/704 [03:53<00:00,  3.02it/s, loss=0.9150, accuracy=0.6825]\n"
          ]
        },
        {
          "output_type": "stream",
          "name": "stdout",
          "text": [
            "Epoch 9, Loss: 0.9150, Acc: 0.6825\n"
          ]
        },
        {
          "output_type": "stream",
          "name": "stderr",
          "text": [
            "Val 9/70: 100%|███████████████████████| 79/79 [00:15<00:00,  5.04it/s, loss=0.8859, accuracy=0.6912]\n",
            "Train epoch 10/70: 100%|████████████| 704/704 [03:54<00:00,  3.00it/s, loss=0.8794, accuracy=0.6947]\n"
          ]
        },
        {
          "output_type": "stream",
          "name": "stdout",
          "text": [
            "Epoch 10, Loss: 0.8794, Acc: 0.6947\n"
          ]
        },
        {
          "output_type": "stream",
          "name": "stderr",
          "text": [
            "Val 10/70: 100%|██████████████████████| 79/79 [00:15<00:00,  5.07it/s, loss=0.8666, accuracy=0.7006]\n",
            "Train epoch 11/70: 100%|████████████| 704/704 [03:47<00:00,  3.09it/s, loss=0.8594, accuracy=0.7051]\n"
          ]
        },
        {
          "output_type": "stream",
          "name": "stdout",
          "text": [
            "Epoch 11, Loss: 0.8594, Acc: 0.7051\n"
          ]
        },
        {
          "output_type": "stream",
          "name": "stderr",
          "text": [
            "Val 11/70: 100%|██████████████████████| 79/79 [00:16<00:00,  4.76it/s, loss=0.8511, accuracy=0.7074]\n",
            "Train epoch 12/70: 100%|████████████| 704/704 [03:45<00:00,  3.12it/s, loss=0.8344, accuracy=0.7121]\n"
          ]
        },
        {
          "output_type": "stream",
          "name": "stdout",
          "text": [
            "Epoch 12, Loss: 0.8344, Acc: 0.7121\n"
          ]
        },
        {
          "output_type": "stream",
          "name": "stderr",
          "text": [
            "Val 12/70: 100%|██████████████████████| 79/79 [00:15<00:00,  5.01it/s, loss=0.8550, accuracy=0.7018]\n",
            "Train epoch 13/70: 100%|████████████| 704/704 [03:49<00:00,  3.07it/s, loss=0.8200, accuracy=0.7159]\n"
          ]
        },
        {
          "output_type": "stream",
          "name": "stdout",
          "text": [
            "Epoch 13, Loss: 0.8200, Acc: 0.7159\n"
          ]
        },
        {
          "output_type": "stream",
          "name": "stderr",
          "text": [
            "Val 13/70: 100%|██████████████████████| 79/79 [00:16<00:00,  4.83it/s, loss=0.8054, accuracy=0.7232]\n",
            "Train epoch 14/70: 100%|████████████| 704/704 [03:49<00:00,  3.06it/s, loss=0.8046, accuracy=0.7225]\n"
          ]
        },
        {
          "output_type": "stream",
          "name": "stdout",
          "text": [
            "Epoch 14, Loss: 0.8046, Acc: 0.7225\n"
          ]
        },
        {
          "output_type": "stream",
          "name": "stderr",
          "text": [
            "Val 14/70: 100%|██████████████████████| 79/79 [00:15<00:00,  5.05it/s, loss=0.8344, accuracy=0.7048]\n",
            "Train epoch 15/70: 100%|████████████| 704/704 [03:48<00:00,  3.08it/s, loss=0.7861, accuracy=0.7288]\n"
          ]
        },
        {
          "output_type": "stream",
          "name": "stdout",
          "text": [
            "Epoch 15, Loss: 0.7861, Acc: 0.7288\n"
          ]
        },
        {
          "output_type": "stream",
          "name": "stderr",
          "text": [
            "Val 15/70: 100%|██████████████████████| 79/79 [00:15<00:00,  5.05it/s, loss=0.8041, accuracy=0.7312]\n",
            "Train epoch 16/70: 100%|████████████| 704/704 [03:50<00:00,  3.06it/s, loss=0.7640, accuracy=0.7362]\n"
          ]
        },
        {
          "output_type": "stream",
          "name": "stdout",
          "text": [
            "Epoch 16, Loss: 0.7640, Acc: 0.7362\n"
          ]
        },
        {
          "output_type": "stream",
          "name": "stderr",
          "text": [
            "Val 16/70: 100%|██████████████████████| 79/79 [00:15<00:00,  5.10it/s, loss=0.7763, accuracy=0.7378]\n",
            "Train epoch 17/70: 100%|████████████| 704/704 [03:50<00:00,  3.05it/s, loss=0.7591, accuracy=0.7376]\n"
          ]
        },
        {
          "output_type": "stream",
          "name": "stdout",
          "text": [
            "Epoch 17, Loss: 0.7591, Acc: 0.7376\n"
          ]
        },
        {
          "output_type": "stream",
          "name": "stderr",
          "text": [
            "Val 17/70: 100%|██████████████████████| 79/79 [00:15<00:00,  5.12it/s, loss=0.7654, accuracy=0.7340]\n",
            "Train epoch 18/70: 100%|████████████| 704/704 [03:49<00:00,  3.07it/s, loss=0.7431, accuracy=0.7462]\n"
          ]
        },
        {
          "output_type": "stream",
          "name": "stdout",
          "text": [
            "Epoch 18, Loss: 0.7431, Acc: 0.7462\n"
          ]
        },
        {
          "output_type": "stream",
          "name": "stderr",
          "text": [
            "Val 18/70: 100%|██████████████████████| 79/79 [00:15<00:00,  5.16it/s, loss=0.7623, accuracy=0.7366]\n",
            "Train epoch 19/70: 100%|████████████| 704/704 [03:49<00:00,  3.07it/s, loss=0.7287, accuracy=0.7485]\n"
          ]
        },
        {
          "output_type": "stream",
          "name": "stdout",
          "text": [
            "Epoch 19, Loss: 0.7287, Acc: 0.7485\n"
          ]
        },
        {
          "output_type": "stream",
          "name": "stderr",
          "text": [
            "Val 19/70: 100%|██████████████████████| 79/79 [00:15<00:00,  5.14it/s, loss=0.7323, accuracy=0.7590]\n",
            "Train epoch 20/70: 100%|████████████| 704/704 [03:50<00:00,  3.06it/s, loss=0.7116, accuracy=0.7550]\n"
          ]
        },
        {
          "output_type": "stream",
          "name": "stdout",
          "text": [
            "Epoch 20, Loss: 0.7116, Acc: 0.7550\n"
          ]
        },
        {
          "output_type": "stream",
          "name": "stderr",
          "text": [
            "Val 20/70: 100%|██████████████████████| 79/79 [00:15<00:00,  5.11it/s, loss=0.7519, accuracy=0.7400]\n",
            "Train epoch 21/70: 100%|████████████| 704/704 [03:49<00:00,  3.07it/s, loss=0.7040, accuracy=0.7581]\n"
          ]
        },
        {
          "output_type": "stream",
          "name": "stdout",
          "text": [
            "Epoch 21, Loss: 0.7040, Acc: 0.7581\n"
          ]
        },
        {
          "output_type": "stream",
          "name": "stderr",
          "text": [
            "Val 21/70: 100%|██████████████████████| 79/79 [00:15<00:00,  5.12it/s, loss=0.7410, accuracy=0.7494]\n",
            "Train epoch 22/70: 100%|████████████| 704/704 [03:50<00:00,  3.05it/s, loss=0.6967, accuracy=0.7618]\n"
          ]
        },
        {
          "output_type": "stream",
          "name": "stdout",
          "text": [
            "Epoch 22, Loss: 0.6967, Acc: 0.7618\n"
          ]
        },
        {
          "output_type": "stream",
          "name": "stderr",
          "text": [
            "Val 22/70: 100%|██████████████████████| 79/79 [00:15<00:00,  5.12it/s, loss=0.7085, accuracy=0.7572]\n",
            "Train epoch 23/70: 100%|████████████| 704/704 [03:50<00:00,  3.05it/s, loss=0.6904, accuracy=0.7626]\n"
          ]
        },
        {
          "output_type": "stream",
          "name": "stdout",
          "text": [
            "Epoch 23, Loss: 0.6904, Acc: 0.7626\n"
          ]
        },
        {
          "output_type": "stream",
          "name": "stderr",
          "text": [
            "Val 23/70: 100%|██████████████████████| 79/79 [00:15<00:00,  5.14it/s, loss=0.7224, accuracy=0.7522]\n",
            "Train epoch 24/70: 100%|████████████| 704/704 [03:49<00:00,  3.07it/s, loss=0.6793, accuracy=0.7653]\n"
          ]
        },
        {
          "output_type": "stream",
          "name": "stdout",
          "text": [
            "Epoch 24, Loss: 0.6793, Acc: 0.7653\n"
          ]
        },
        {
          "output_type": "stream",
          "name": "stderr",
          "text": [
            "Val 24/70: 100%|██████████████████████| 79/79 [00:15<00:00,  5.12it/s, loss=0.7358, accuracy=0.7470]\n",
            "Train epoch 25/70: 100%|████████████| 704/704 [03:49<00:00,  3.07it/s, loss=0.6737, accuracy=0.7676]\n"
          ]
        },
        {
          "output_type": "stream",
          "name": "stdout",
          "text": [
            "Epoch 25, Loss: 0.6737, Acc: 0.7676\n"
          ]
        },
        {
          "output_type": "stream",
          "name": "stderr",
          "text": [
            "Val 25/70: 100%|██████████████████████| 79/79 [00:15<00:00,  5.18it/s, loss=0.6822, accuracy=0.7702]\n",
            "Train epoch 26/70: 100%|████████████| 704/704 [03:47<00:00,  3.09it/s, loss=0.6566, accuracy=0.7735]\n"
          ]
        },
        {
          "output_type": "stream",
          "name": "stdout",
          "text": [
            "Epoch 26, Loss: 0.6566, Acc: 0.7735\n"
          ]
        },
        {
          "output_type": "stream",
          "name": "stderr",
          "text": [
            "Val 26/70: 100%|██████████████████████| 79/79 [00:15<00:00,  5.03it/s, loss=0.6986, accuracy=0.7620]\n",
            "Train epoch 27/70: 100%|████████████| 704/704 [03:48<00:00,  3.08it/s, loss=0.6489, accuracy=0.7780]\n"
          ]
        },
        {
          "output_type": "stream",
          "name": "stdout",
          "text": [
            "Epoch 27, Loss: 0.6489, Acc: 0.7780\n"
          ]
        },
        {
          "output_type": "stream",
          "name": "stderr",
          "text": [
            "Val 27/70: 100%|██████████████████████| 79/79 [00:15<00:00,  4.99it/s, loss=0.7004, accuracy=0.7644]\n",
            "Train epoch 28/70: 100%|████████████| 704/704 [03:49<00:00,  3.07it/s, loss=0.6485, accuracy=0.7763]\n"
          ]
        },
        {
          "output_type": "stream",
          "name": "stdout",
          "text": [
            "Epoch 28, Loss: 0.6485, Acc: 0.7763\n"
          ]
        },
        {
          "output_type": "stream",
          "name": "stderr",
          "text": [
            "Val 28/70: 100%|██████████████████████| 79/79 [00:15<00:00,  4.95it/s, loss=0.6750, accuracy=0.7766]\n",
            "Train epoch 29/70: 100%|████████████| 704/704 [03:48<00:00,  3.08it/s, loss=0.6338, accuracy=0.7814]\n"
          ]
        },
        {
          "output_type": "stream",
          "name": "stdout",
          "text": [
            "Epoch 29, Loss: 0.6338, Acc: 0.7814\n"
          ]
        },
        {
          "output_type": "stream",
          "name": "stderr",
          "text": [
            "Val 29/70: 100%|██████████████████████| 79/79 [00:16<00:00,  4.76it/s, loss=0.6742, accuracy=0.7708]\n",
            "Train epoch 30/70: 100%|████████████| 704/704 [03:49<00:00,  3.07it/s, loss=0.6313, accuracy=0.7823]\n"
          ]
        },
        {
          "output_type": "stream",
          "name": "stdout",
          "text": [
            "Epoch 30, Loss: 0.6313, Acc: 0.7823\n"
          ]
        },
        {
          "output_type": "stream",
          "name": "stderr",
          "text": [
            "Val 30/70: 100%|██████████████████████| 79/79 [00:15<00:00,  5.10it/s, loss=0.6704, accuracy=0.7682]\n",
            "Train epoch 31/70: 100%|████████████| 704/704 [03:49<00:00,  3.06it/s, loss=0.6201, accuracy=0.7888]\n"
          ]
        },
        {
          "output_type": "stream",
          "name": "stdout",
          "text": [
            "Epoch 31, Loss: 0.6201, Acc: 0.7888\n"
          ]
        },
        {
          "output_type": "stream",
          "name": "stderr",
          "text": [
            "Val 31/70: 100%|██████████████████████| 79/79 [00:15<00:00,  5.05it/s, loss=0.6729, accuracy=0.7646]\n",
            "Train epoch 32/70: 100%|████████████| 704/704 [03:50<00:00,  3.05it/s, loss=0.6202, accuracy=0.7866]\n"
          ]
        },
        {
          "output_type": "stream",
          "name": "stdout",
          "text": [
            "Epoch 32, Loss: 0.6202, Acc: 0.7866\n"
          ]
        },
        {
          "output_type": "stream",
          "name": "stderr",
          "text": [
            "Val 32/70: 100%|██████████████████████| 79/79 [00:15<00:00,  4.97it/s, loss=0.6704, accuracy=0.7724]\n",
            "Train epoch 33/70: 100%|████████████| 704/704 [03:49<00:00,  3.07it/s, loss=0.6115, accuracy=0.7916]\n"
          ]
        },
        {
          "output_type": "stream",
          "name": "stdout",
          "text": [
            "Epoch 33, Loss: 0.6115, Acc: 0.7916\n"
          ]
        },
        {
          "output_type": "stream",
          "name": "stderr",
          "text": [
            "Val 33/70: 100%|██████████████████████| 79/79 [00:15<00:00,  5.11it/s, loss=0.6411, accuracy=0.7828]\n",
            "Train epoch 34/70: 100%|████████████| 704/704 [03:50<00:00,  3.06it/s, loss=0.6100, accuracy=0.7893]\n"
          ]
        },
        {
          "output_type": "stream",
          "name": "stdout",
          "text": [
            "Epoch 34, Loss: 0.6100, Acc: 0.7893\n"
          ]
        },
        {
          "output_type": "stream",
          "name": "stderr",
          "text": [
            "Val 34/70: 100%|██████████████████████| 79/79 [00:15<00:00,  5.18it/s, loss=0.6714, accuracy=0.7754]\n",
            "Train epoch 35/70: 100%|████████████| 704/704 [03:48<00:00,  3.08it/s, loss=0.5985, accuracy=0.7937]\n"
          ]
        },
        {
          "output_type": "stream",
          "name": "stdout",
          "text": [
            "Epoch 35, Loss: 0.5985, Acc: 0.7937\n"
          ]
        },
        {
          "output_type": "stream",
          "name": "stderr",
          "text": [
            "Val 35/70: 100%|██████████████████████| 79/79 [00:16<00:00,  4.77it/s, loss=0.6389, accuracy=0.7842]\n",
            "Train epoch 36/70: 100%|████████████| 704/704 [03:48<00:00,  3.08it/s, loss=0.5952, accuracy=0.7968]\n"
          ]
        },
        {
          "output_type": "stream",
          "name": "stdout",
          "text": [
            "Epoch 36, Loss: 0.5952, Acc: 0.7968\n"
          ]
        },
        {
          "output_type": "stream",
          "name": "stderr",
          "text": [
            "Val 36/70: 100%|██████████████████████| 79/79 [00:15<00:00,  5.13it/s, loss=0.6367, accuracy=0.7868]\n",
            "Train epoch 37/70: 100%|████████████| 704/704 [03:51<00:00,  3.04it/s, loss=0.5852, accuracy=0.7995]\n"
          ]
        },
        {
          "output_type": "stream",
          "name": "stdout",
          "text": [
            "Epoch 37, Loss: 0.5852, Acc: 0.7995\n"
          ]
        },
        {
          "output_type": "stream",
          "name": "stderr",
          "text": [
            "Val 37/70: 100%|██████████████████████| 79/79 [00:16<00:00,  4.91it/s, loss=0.6346, accuracy=0.7792]\n",
            "Train epoch 38/70: 100%|████████████| 704/704 [03:51<00:00,  3.04it/s, loss=0.5823, accuracy=0.8002]\n"
          ]
        },
        {
          "output_type": "stream",
          "name": "stdout",
          "text": [
            "Epoch 38, Loss: 0.5823, Acc: 0.8002\n"
          ]
        },
        {
          "output_type": "stream",
          "name": "stderr",
          "text": [
            "Val 38/70: 100%|██████████████████████| 79/79 [00:16<00:00,  4.91it/s, loss=0.6320, accuracy=0.7846]\n",
            "Train epoch 39/70: 100%|████████████| 704/704 [03:50<00:00,  3.05it/s, loss=0.5790, accuracy=0.8000]\n"
          ]
        },
        {
          "output_type": "stream",
          "name": "stdout",
          "text": [
            "Epoch 39, Loss: 0.5790, Acc: 0.8000\n"
          ]
        },
        {
          "output_type": "stream",
          "name": "stderr",
          "text": [
            "Val 39/70: 100%|██████████████████████| 79/79 [00:15<00:00,  5.09it/s, loss=0.6179, accuracy=0.7924]\n",
            "Train epoch 40/70: 100%|████████████| 704/704 [03:48<00:00,  3.08it/s, loss=0.5723, accuracy=0.8058]\n"
          ]
        },
        {
          "output_type": "stream",
          "name": "stdout",
          "text": [
            "Epoch 40, Loss: 0.5723, Acc: 0.8058\n"
          ]
        },
        {
          "output_type": "stream",
          "name": "stderr",
          "text": [
            "Val 40/70: 100%|██████████████████████| 79/79 [00:15<00:00,  5.06it/s, loss=0.6508, accuracy=0.7832]\n",
            "Train epoch 41/70: 100%|████████████| 704/704 [03:48<00:00,  3.07it/s, loss=0.5665, accuracy=0.8057]\n"
          ]
        },
        {
          "output_type": "stream",
          "name": "stdout",
          "text": [
            "Epoch 41, Loss: 0.5665, Acc: 0.8057\n"
          ]
        },
        {
          "output_type": "stream",
          "name": "stderr",
          "text": [
            "Val 41/70: 100%|██████████████████████| 79/79 [00:16<00:00,  4.92it/s, loss=0.6147, accuracy=0.7854]\n",
            "Train epoch 42/70: 100%|████████████| 704/704 [03:49<00:00,  3.07it/s, loss=0.5632, accuracy=0.8079]\n"
          ]
        },
        {
          "output_type": "stream",
          "name": "stdout",
          "text": [
            "Epoch 42, Loss: 0.5632, Acc: 0.8079\n"
          ]
        },
        {
          "output_type": "stream",
          "name": "stderr",
          "text": [
            "Val 42/70: 100%|██████████████████████| 79/79 [00:15<00:00,  5.06it/s, loss=0.6410, accuracy=0.7834]\n",
            "Train epoch 43/70: 100%|████████████| 704/704 [03:51<00:00,  3.04it/s, loss=0.5534, accuracy=0.8102]\n"
          ]
        },
        {
          "output_type": "stream",
          "name": "stdout",
          "text": [
            "Epoch 43, Loss: 0.5534, Acc: 0.8102\n"
          ]
        },
        {
          "output_type": "stream",
          "name": "stderr",
          "text": [
            "Val 43/70: 100%|██████████████████████| 79/79 [00:15<00:00,  5.08it/s, loss=0.6181, accuracy=0.7898]\n",
            "Train epoch 44/70: 100%|████████████| 704/704 [03:51<00:00,  3.04it/s, loss=0.5535, accuracy=0.8103]\n"
          ]
        },
        {
          "output_type": "stream",
          "name": "stdout",
          "text": [
            "Epoch 44, Loss: 0.5535, Acc: 0.8103\n"
          ]
        },
        {
          "output_type": "stream",
          "name": "stderr",
          "text": [
            "Val 44/70: 100%|██████████████████████| 79/79 [00:16<00:00,  4.90it/s, loss=0.6225, accuracy=0.7926]\n",
            "Train epoch 45/70: 100%|████████████| 704/704 [03:54<00:00,  3.00it/s, loss=0.5482, accuracy=0.8117]\n"
          ]
        },
        {
          "output_type": "stream",
          "name": "stdout",
          "text": [
            "Epoch 45, Loss: 0.5482, Acc: 0.8117\n"
          ]
        },
        {
          "output_type": "stream",
          "name": "stderr",
          "text": [
            "Val 45/70: 100%|██████████████████████| 79/79 [00:15<00:00,  5.04it/s, loss=0.5995, accuracy=0.7956]\n",
            "Train epoch 46/70: 100%|████████████| 704/704 [03:50<00:00,  3.05it/s, loss=0.5408, accuracy=0.8124]\n"
          ]
        },
        {
          "output_type": "stream",
          "name": "stdout",
          "text": [
            "Epoch 46, Loss: 0.5408, Acc: 0.8124\n"
          ]
        },
        {
          "output_type": "stream",
          "name": "stderr",
          "text": [
            "Val 46/70: 100%|██████████████████████| 79/79 [00:15<00:00,  5.04it/s, loss=0.6044, accuracy=0.7986]\n",
            "Train epoch 47/70: 100%|████████████| 704/704 [03:50<00:00,  3.05it/s, loss=0.5427, accuracy=0.8144]\n"
          ]
        },
        {
          "output_type": "stream",
          "name": "stdout",
          "text": [
            "Epoch 47, Loss: 0.5427, Acc: 0.8144\n"
          ]
        },
        {
          "output_type": "stream",
          "name": "stderr",
          "text": [
            "Val 47/70: 100%|██████████████████████| 79/79 [00:15<00:00,  5.07it/s, loss=0.6067, accuracy=0.7952]\n",
            "Train epoch 48/70: 100%|████████████| 704/704 [03:48<00:00,  3.08it/s, loss=0.5325, accuracy=0.8150]\n"
          ]
        },
        {
          "output_type": "stream",
          "name": "stdout",
          "text": [
            "Epoch 48, Loss: 0.5325, Acc: 0.8150\n"
          ]
        },
        {
          "output_type": "stream",
          "name": "stderr",
          "text": [
            "Val 48/70: 100%|██████████████████████| 79/79 [00:15<00:00,  4.97it/s, loss=0.6215, accuracy=0.7888]\n",
            "Train epoch 49/70: 100%|████████████| 704/704 [03:46<00:00,  3.11it/s, loss=0.5247, accuracy=0.8197]\n"
          ]
        },
        {
          "output_type": "stream",
          "name": "stdout",
          "text": [
            "Epoch 49, Loss: 0.5247, Acc: 0.8197\n"
          ]
        },
        {
          "output_type": "stream",
          "name": "stderr",
          "text": [
            "Val 49/70: 100%|██████████████████████| 79/79 [00:17<00:00,  4.50it/s, loss=0.6189, accuracy=0.7928]\n",
            "Train epoch 50/70: 100%|████████████| 704/704 [03:47<00:00,  3.10it/s, loss=0.5292, accuracy=0.8198]\n"
          ]
        },
        {
          "output_type": "stream",
          "name": "stdout",
          "text": [
            "Epoch 50, Loss: 0.5292, Acc: 0.8198\n"
          ]
        },
        {
          "output_type": "stream",
          "name": "stderr",
          "text": [
            "Val 50/70: 100%|██████████████████████| 79/79 [00:15<00:00,  5.12it/s, loss=0.6076, accuracy=0.8012]\n",
            "Train epoch 51/70: 100%|████████████| 704/704 [03:50<00:00,  3.05it/s, loss=0.5222, accuracy=0.8212]\n"
          ]
        },
        {
          "output_type": "stream",
          "name": "stdout",
          "text": [
            "Epoch 51, Loss: 0.5222, Acc: 0.8212\n"
          ]
        },
        {
          "output_type": "stream",
          "name": "stderr",
          "text": [
            "Val 51/70: 100%|██████████████████████| 79/79 [00:15<00:00,  4.98it/s, loss=0.6096, accuracy=0.7958]\n",
            "Train epoch 52/70: 100%|████████████| 704/704 [03:50<00:00,  3.05it/s, loss=0.5232, accuracy=0.8190]\n"
          ]
        },
        {
          "output_type": "stream",
          "name": "stdout",
          "text": [
            "Epoch 52, Loss: 0.5232, Acc: 0.8190\n"
          ]
        },
        {
          "output_type": "stream",
          "name": "stderr",
          "text": [
            "Val 52/70: 100%|██████████████████████| 79/79 [00:15<00:00,  5.00it/s, loss=0.6102, accuracy=0.7972]\n",
            "Train epoch 53/70: 100%|████████████| 704/704 [03:48<00:00,  3.08it/s, loss=0.5139, accuracy=0.8234]\n"
          ]
        },
        {
          "output_type": "stream",
          "name": "stdout",
          "text": [
            "Epoch 53, Loss: 0.5139, Acc: 0.8234\n"
          ]
        },
        {
          "output_type": "stream",
          "name": "stderr",
          "text": [
            "Val 53/70: 100%|██████████████████████| 79/79 [00:16<00:00,  4.70it/s, loss=0.5898, accuracy=0.8058]\n",
            "Train epoch 54/70: 100%|████████████| 704/704 [03:47<00:00,  3.09it/s, loss=0.5130, accuracy=0.8224]\n"
          ]
        },
        {
          "output_type": "stream",
          "name": "stdout",
          "text": [
            "Epoch 54, Loss: 0.5130, Acc: 0.8224\n"
          ]
        },
        {
          "output_type": "stream",
          "name": "stderr",
          "text": [
            "Val 54/70: 100%|██████████████████████| 79/79 [00:15<00:00,  5.19it/s, loss=0.5995, accuracy=0.7958]\n",
            "Train epoch 55/70: 100%|████████████| 704/704 [03:47<00:00,  3.10it/s, loss=0.5074, accuracy=0.8247]\n"
          ]
        },
        {
          "output_type": "stream",
          "name": "stdout",
          "text": [
            "Epoch 55, Loss: 0.5074, Acc: 0.8247\n"
          ]
        },
        {
          "output_type": "stream",
          "name": "stderr",
          "text": [
            "Val 55/70: 100%|██████████████████████| 79/79 [00:15<00:00,  5.16it/s, loss=0.5853, accuracy=0.7988]\n",
            "Train epoch 56/70: 100%|████████████| 704/704 [03:47<00:00,  3.09it/s, loss=0.5080, accuracy=0.8276]\n"
          ]
        },
        {
          "output_type": "stream",
          "name": "stdout",
          "text": [
            "Epoch 56, Loss: 0.5080, Acc: 0.8276\n"
          ]
        },
        {
          "output_type": "stream",
          "name": "stderr",
          "text": [
            "Val 56/70: 100%|██████████████████████| 79/79 [00:15<00:00,  5.15it/s, loss=0.6052, accuracy=0.7964]\n",
            "Train epoch 57/70: 100%|████████████| 704/704 [03:48<00:00,  3.08it/s, loss=0.5009, accuracy=0.8283]\n"
          ]
        },
        {
          "output_type": "stream",
          "name": "stdout",
          "text": [
            "Epoch 57, Loss: 0.5009, Acc: 0.8283\n"
          ]
        },
        {
          "output_type": "stream",
          "name": "stderr",
          "text": [
            "Val 57/70: 100%|██████████████████████| 79/79 [00:15<00:00,  5.17it/s, loss=0.5840, accuracy=0.8004]\n",
            "Train epoch 58/70: 100%|████████████| 704/704 [03:47<00:00,  3.10it/s, loss=0.4961, accuracy=0.8285]\n"
          ]
        },
        {
          "output_type": "stream",
          "name": "stdout",
          "text": [
            "Epoch 58, Loss: 0.4961, Acc: 0.8285\n"
          ]
        },
        {
          "output_type": "stream",
          "name": "stderr",
          "text": [
            "Val 58/70: 100%|██████████████████████| 79/79 [00:15<00:00,  5.20it/s, loss=0.5866, accuracy=0.8094]\n",
            "Train epoch 59/70: 100%|████████████| 704/704 [03:48<00:00,  3.08it/s, loss=0.4951, accuracy=0.8308]\n"
          ]
        },
        {
          "output_type": "stream",
          "name": "stdout",
          "text": [
            "Epoch 59, Loss: 0.4951, Acc: 0.8308\n"
          ]
        },
        {
          "output_type": "stream",
          "name": "stderr",
          "text": [
            "Val 59/70: 100%|██████████████████████| 79/79 [00:16<00:00,  4.91it/s, loss=0.5687, accuracy=0.8088]\n",
            "Train epoch 60/70: 100%|████████████| 704/704 [03:46<00:00,  3.11it/s, loss=0.4940, accuracy=0.8303]\n"
          ]
        },
        {
          "output_type": "stream",
          "name": "stdout",
          "text": [
            "Epoch 60, Loss: 0.4940, Acc: 0.8303\n"
          ]
        },
        {
          "output_type": "stream",
          "name": "stderr",
          "text": [
            "Val 60/70: 100%|██████████████████████| 79/79 [00:15<00:00,  5.08it/s, loss=0.5921, accuracy=0.7988]\n",
            "Train epoch 61/70: 100%|████████████| 704/704 [03:50<00:00,  3.06it/s, loss=0.4929, accuracy=0.8304]\n"
          ]
        },
        {
          "output_type": "stream",
          "name": "stdout",
          "text": [
            "Epoch 61, Loss: 0.4929, Acc: 0.8304\n"
          ]
        },
        {
          "output_type": "stream",
          "name": "stderr",
          "text": [
            "Val 61/70: 100%|██████████████████████| 79/79 [00:15<00:00,  5.12it/s, loss=0.6176, accuracy=0.7984]\n",
            "Train epoch 62/70: 100%|████████████| 704/704 [03:49<00:00,  3.06it/s, loss=0.4865, accuracy=0.8328]\n"
          ]
        },
        {
          "output_type": "stream",
          "name": "stdout",
          "text": [
            "Epoch 62, Loss: 0.4865, Acc: 0.8328\n"
          ]
        },
        {
          "output_type": "stream",
          "name": "stderr",
          "text": [
            "Val 62/70: 100%|██████████████████████| 79/79 [00:15<00:00,  5.18it/s, loss=0.5639, accuracy=0.8100]\n",
            "Train epoch 63/70: 100%|████████████| 704/704 [03:50<00:00,  3.05it/s, loss=0.4870, accuracy=0.8316]\n"
          ]
        },
        {
          "output_type": "stream",
          "name": "stdout",
          "text": [
            "Epoch 63, Loss: 0.4870, Acc: 0.8316\n"
          ]
        },
        {
          "output_type": "stream",
          "name": "stderr",
          "text": [
            "Val 63/70: 100%|██████████████████████| 79/79 [00:15<00:00,  5.16it/s, loss=0.5851, accuracy=0.8000]\n",
            "Train epoch 64/70: 100%|████████████| 704/704 [03:50<00:00,  3.06it/s, loss=0.4830, accuracy=0.8349]\n"
          ]
        },
        {
          "output_type": "stream",
          "name": "stdout",
          "text": [
            "Epoch 64, Loss: 0.4830, Acc: 0.8349\n"
          ]
        },
        {
          "output_type": "stream",
          "name": "stderr",
          "text": [
            "Val 64/70: 100%|██████████████████████| 79/79 [00:15<00:00,  4.95it/s, loss=0.5935, accuracy=0.8036]\n",
            "Train epoch 65/70: 100%|████████████| 704/704 [03:47<00:00,  3.09it/s, loss=0.4836, accuracy=0.8321]\n"
          ]
        },
        {
          "output_type": "stream",
          "name": "stdout",
          "text": [
            "Epoch 65, Loss: 0.4836, Acc: 0.8321\n"
          ]
        },
        {
          "output_type": "stream",
          "name": "stderr",
          "text": [
            "Val 65/70: 100%|██████████████████████| 79/79 [00:15<00:00,  5.07it/s, loss=0.5767, accuracy=0.8078]\n",
            "Train epoch 66/70: 100%|████████████| 704/704 [03:52<00:00,  3.03it/s, loss=0.4763, accuracy=0.8372]\n"
          ]
        },
        {
          "output_type": "stream",
          "name": "stdout",
          "text": [
            "Epoch 66, Loss: 0.4763, Acc: 0.8372\n"
          ]
        },
        {
          "output_type": "stream",
          "name": "stderr",
          "text": [
            "Val 66/70: 100%|██████████████████████| 79/79 [00:15<00:00,  5.16it/s, loss=0.5860, accuracy=0.8008]\n",
            "Train epoch 67/70: 100%|████████████| 704/704 [03:48<00:00,  3.08it/s, loss=0.4720, accuracy=0.8370]\n"
          ]
        },
        {
          "output_type": "stream",
          "name": "stdout",
          "text": [
            "Epoch 67, Loss: 0.4720, Acc: 0.8370\n"
          ]
        },
        {
          "output_type": "stream",
          "name": "stderr",
          "text": [
            "Val 67/70: 100%|██████████████████████| 79/79 [00:15<00:00,  5.16it/s, loss=0.5826, accuracy=0.8008]\n",
            "Train epoch 68/70: 100%|████████████| 704/704 [03:51<00:00,  3.04it/s, loss=0.4727, accuracy=0.8352]\n"
          ]
        },
        {
          "output_type": "stream",
          "name": "stdout",
          "text": [
            "Epoch 68, Loss: 0.4727, Acc: 0.8352\n"
          ]
        },
        {
          "output_type": "stream",
          "name": "stderr",
          "text": [
            "Val 68/70: 100%|██████████████████████| 79/79 [00:15<00:00,  5.08it/s, loss=0.5523, accuracy=0.8164]\n",
            "Train epoch 69/70: 100%|████████████| 704/704 [03:52<00:00,  3.03it/s, loss=0.4697, accuracy=0.8420]\n"
          ]
        },
        {
          "output_type": "stream",
          "name": "stdout",
          "text": [
            "Epoch 69, Loss: 0.4697, Acc: 0.8420\n"
          ]
        },
        {
          "output_type": "stream",
          "name": "stderr",
          "text": [
            "Val 69/70: 100%|██████████████████████| 79/79 [00:16<00:00,  4.90it/s, loss=0.5746, accuracy=0.8118]\n",
            "Train epoch 70/70: 100%|████████████| 704/704 [03:48<00:00,  3.08it/s, loss=0.4621, accuracy=0.8383]\n"
          ]
        },
        {
          "output_type": "stream",
          "name": "stdout",
          "text": [
            "Epoch 70, Loss: 0.4621, Acc: 0.8383\n"
          ]
        },
        {
          "output_type": "stream",
          "name": "stderr",
          "text": [
            "Val 70/70: 100%|██████████████████████| 79/79 [00:15<00:00,  4.98it/s, loss=0.5617, accuracy=0.8180]\n"
          ]
        }
      ],
      "source": [
        "train_loss_history, train_acc_history, val_loss_history, val_acc_history = train(model, train_loader, val_loader, criterion, optimizer, device, epochs=num_epochs)"
      ]
    },
    {
      "cell_type": "code",
      "execution_count": 12,
      "id": "08dcb17e-73b3-451c-8298-835029326057",
      "metadata": {
        "colab": {
          "base_uri": "https://localhost:8080/",
          "height": 507
        },
        "id": "08dcb17e-73b3-451c-8298-835029326057",
        "outputId": "d4c0c0f6-3ac7-4a11-8d19-24dcc7cec5bd"
      },
      "outputs": [
        {
          "output_type": "display_data",
          "data": {
            "text/plain": [
              "<Figure size 1200x500 with 2 Axes>"
            ],
            "image/png": "[encoded data removed]"
          },
          "metadata": {}
        }
      ],
      "source": [
        "epochs = range(1, len(train_loss_history) + 1)\n",
        "\n",
        "# График функции потерь на тренировочных данных\n",
        "plt.figure(figsize=(12, 5))\n",
        "plt.subplot(1, 2, 1)\n",
        "plt.plot(epochs, train_loss_history, 'b', label='Train Loss')\n",
        "plt.plot(epochs, val_loss_history, 'r', label='Validation Loss')\n",
        "plt.title('Train and Validation Loss')\n",
        "plt.xlabel('Epochs')\n",
        "plt.ylabel('Loss')\n",
        "plt.legend()\n",
        "\n",
        "# График точности на валидационных данных\n",
        "plt.subplot(1, 2, 2)\n",
        "plt.plot(epochs, train_acc_history, 'b', label='Train Accuracy')\n",
        "plt.plot(epochs, val_acc_history, 'g', label='Validation Accuracy')\n",
        "plt.title('Validation Accuracy')\n",
        "plt.xlabel('Epochs')\n",
        "plt.ylabel('Accuracy')\n",
        "plt.legend()\n",
        "\n",
        "plt.tight_layout()\n",
        "plt.show()"
      ]
    },
    {
      "cell_type": "markdown",
      "id": "a195b688-6baa-4c71-bc0c-5f90d7eed6da",
      "metadata": {
        "id": "a195b688-6baa-4c71-bc0c-5f90d7eed6da"
      },
      "source": [
        "Сделайте выводы о качестве обучения"
      ]
    },
    {
      "cell_type": "markdown",
      "source": [
        "Модель показывает хорошую тенденцию к обучению, так как обе кривые (потери и точность) двигаются в правильном направлении. Валидационная точность стабилизируется, что говорит о том, что модель уже достигла своего максимального потенциала на этом наборе данных."
      ],
      "metadata": {
        "id": "I3cMkPAaDoIg"
      },
      "id": "I3cMkPAaDoIg"
    },
    {
      "cell_type": "markdown",
      "id": "ff061f53-e474-4cb4-b34d-45f14546c400",
      "metadata": {
        "id": "ff061f53-e474-4cb4-b34d-45f14546c400"
      },
      "source": [
        "Оцените тестовую метрику на тестовых данных"
      ]
    },
    {
      "cell_type": "code",
      "execution_count": 13,
      "id": "68c54f83-e0a6-4e1c-87c7-b129028cae76",
      "metadata": {
        "colab": {
          "base_uri": "https://localhost:8080/"
        },
        "id": "68c54f83-e0a6-4e1c-87c7-b129028cae76",
        "outputId": "8be3474a-ad8d-44a6-98d2-0a2dc1876f25"
      },
      "outputs": [
        {
          "output_type": "stream",
          "name": "stdout",
          "text": [
            "Test Loss: 0.4362\n",
            "Test Accuracy: 0.8553\n"
          ]
        }
      ],
      "source": [
        "test_acc, test_loss = test(model, test_loader, criterion, device)\n",
        "print('Test Loss: {:.4f}\\nTest Accuracy: {:.4f}'.format(test_loss, test_acc))\n"
      ]
    },
    {
      "cell_type": "markdown",
      "id": "06b78b24-c338-4e42-81ce-7c120d8fd420",
      "metadata": {
        "id": "06b78b24-c338-4e42-81ce-7c120d8fd420"
      },
      "source": [
        "## Что дальше?\n",
        "Теперь, когда у вас есть все необходимое - экспериментируйте. Можете изменить все что угодно, креативность поощряется. Используйте новые модели, loss-функции, аугментацию, ансамбли, выдумывайте все, что сможете"
      ]
    },
    {
      "cell_type": "markdown",
      "id": "5c373039-62ab-441a-84bc-473d3fa726d2",
      "metadata": {
        "id": "5c373039-62ab-441a-84bc-473d3fa726d2"
      },
      "source": [
        "## Критерии оценки\n",
        "Accuracy - на тестовых данных\n",
        "- $Accuracy \\leq 0.67$ - 0 баллов\n",
        "- $0.67 < Accuracy \\leq 0.72$ - 2 балла\n",
        "- $0.72 < Accuracy \\leq 0.77$ - 4 балла\n",
        "- $0.77 < Accuracy \\leq 0.82$ - 6 баллов\n",
        "- $0.82 < Accuracy \\leq 0.87$ - 8 баллов\n",
        "- $Accuracy > 0.87$ - 10 баллов"
      ]
    }
  ],
  "metadata": {
    "kernelspec": {
      "display_name": "Python 3 (ipykernel)",
      "language": "python",
      "name": "python3"
    },
    "language_info": {
      "codemirror_mode": {
        "name": "ipython",
        "version": 3
      },
      "file_extension": ".py",
      "mimetype": "text/x-python",
      "name": "python",
      "nbconvert_exporter": "python",
      "pygments_lexer": "ipython3",
      "version": "3.12.6"
    },
    "colab": {
      "provenance": []
    }
  },
  "nbformat": 4,
  "nbformat_minor": 5
}